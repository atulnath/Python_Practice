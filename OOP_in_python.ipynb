{
  "nbformat": 4,
  "nbformat_minor": 0,
  "metadata": {
    "colab": {
      "provenance": [],
      "authorship_tag": "ABX9TyNlWBWG9zzK+LKaRSCthroh",
      "include_colab_link": true
    },
    "kernelspec": {
      "name": "python3",
      "display_name": "Python 3"
    },
    "language_info": {
      "name": "python"
    }
  },
  "cells": [
    {
      "cell_type": "markdown",
      "metadata": {
        "id": "view-in-github",
        "colab_type": "text"
      },
      "source": [
        "<a href=\"https://colab.research.google.com/github/atulnath/Python_Practice/blob/main/OOP_in_python.ipynb\" target=\"_parent\"><img src=\"https://colab.research.google.com/assets/colab-badge.svg\" alt=\"Open In Colab\"/></a>"
      ]
    },
    {
      "cell_type": "code",
      "execution_count": 1,
      "metadata": {
        "id": "bgkyj9wLRJ1f",
        "colab": {
          "base_uri": "https://localhost:8080/"
        },
        "outputId": "b02693e8-126d-402c-f68e-39cf231d046a"
      },
      "outputs": [
        {
          "output_type": "stream",
          "name": "stdout",
          "text": [
            "Car engine is ready\n",
            "Bike engine is ready\n"
          ]
        }
      ],
      "source": [
        "#For making abstract class we need to import ABC and abstractmethod.\n",
        "\n",
        "# Here we make a abstract class\n",
        "# any class importing this class\n",
        "# need to implement this engine ready method\n",
        "from abc import ABC, abstractmethod\n",
        "class Vehicle(ABC):\n",
        "  @abstractmethod\n",
        "  def engine_ready(self):\n",
        "    pass\n",
        "\n",
        "class Car(Vehicle):\n",
        "  def engine_ready(self):\n",
        "    print(\"Car engine is ready\")\n",
        "\n",
        "class Bike(Vehicle):\n",
        "  def engine_ready(self):\n",
        "    print(\"Bike engine is ready\")\n",
        "\n",
        "car = Car()\n",
        "car.engine_ready()\n",
        "\n",
        "bike = Bike()\n",
        "bike.engine_ready()"
      ]
    },
    {
      "cell_type": "code",
      "source": [
        "class Car(Vehicle):\n",
        "\n",
        "  current_car_num = 0 # Class variable\n",
        "  def __init__(self, company, model, total_price) -> None:\n",
        "    self.__company = company # Private\n",
        "    self._model = model # Protected\n",
        "    self.total_price = total_price # public\n",
        "    Car.current_car_num += 1\n",
        "\n",
        "  # Getter Method\n",
        "\n",
        "  def get_company(self):\n",
        "    return self.__company\n",
        "\n",
        "  # Setter Method\n",
        "\n",
        "  def set_company(self, company):\n",
        "    self.__company = company\n",
        "\n",
        "  def engine_ready(self):\n",
        "    return f\"{self.__company} {self._model}'s Engine started\"\n",
        "\n",
        "  def is_car_ready(self):\n",
        "    return f\"{self.__company} {self._model} is ready to drive\"\n",
        "\n",
        "if __name__ == '__main__':\n",
        "\n",
        "  toyota_car = Car(\"Toyota\", 'Corolla', 25000)\n",
        "  print(toyota_car.total_price)\n",
        "  print(toyota_car.engine_ready())\n",
        "  print(\"Our Car is from: \",toyota_car.get_company())\n",
        ""
      ],
      "metadata": {
        "colab": {
          "base_uri": "https://localhost:8080/"
        },
        "id": "RswAs5CnY5cE",
        "outputId": "3703bc29-6623-4898-958f-c907a2f25180"
      },
      "execution_count": 7,
      "outputs": [
        {
          "output_type": "stream",
          "name": "stdout",
          "text": [
            "25000\n",
            "Toyota Corolla's Engine started\n",
            "Our Car is from:  Toyota\n"
          ]
        }
      ]
    }
  ]
}