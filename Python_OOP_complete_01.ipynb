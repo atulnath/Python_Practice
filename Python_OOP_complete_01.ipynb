{
  "nbformat": 4,
  "nbformat_minor": 0,
  "metadata": {
    "colab": {
      "provenance": [],
      "authorship_tag": "ABX9TyMj+fSzvKkF75UJ2SIeiBDW",
      "include_colab_link": true
    },
    "kernelspec": {
      "name": "python3",
      "display_name": "Python 3"
    },
    "language_info": {
      "name": "python"
    }
  },
  "cells": [
    {
      "cell_type": "markdown",
      "metadata": {
        "id": "view-in-github",
        "colab_type": "text"
      },
      "source": [
        "<a href=\"https://colab.research.google.com/github/atulnath/Python_Practice/blob/main/Python_OOP_complete_01.ipynb\" target=\"_parent\"><img src=\"https://colab.research.google.com/assets/colab-badge.svg\" alt=\"Open In Colab\"/></a>"
      ]
    },
    {
      "cell_type": "markdown",
      "source": [
        "#Simple Class and Object Creation"
      ],
      "metadata": {
        "id": "aQF9x312Y2_P"
      }
    },
    {
      "cell_type": "code",
      "source": [
        "class Book:\n",
        "  def __init__(self,title,author,pages,price):\n",
        "    self.title=title\n",
        "    self.author=author\n",
        "    self.pages=pages\n",
        "    self.price=price\n",
        "  #To String method\n",
        "\n",
        "  def __str__(self):\n",
        "    return f'{self.title} by {self.author}'\n",
        "\n",
        "Bangla = Book('Leela','Humayun Ahmed',120,340)\n",
        "print(Bangla)"
      ],
      "metadata": {
        "colab": {
          "base_uri": "https://localhost:8080/"
        },
        "id": "A3GpXgBYY4nY",
        "outputId": "2c90a46d-1c70-4b1e-e131-cb865864649c"
      },
      "execution_count": 5,
      "outputs": [
        {
          "output_type": "stream",
          "name": "stdout",
          "text": [
            "Leela by Humayun Ahmed\n"
          ]
        }
      ]
    },
    {
      "cell_type": "markdown",
      "source": [
        "#Encapsulation\n",
        "\n",
        "Using private attributes __"
      ],
      "metadata": {
        "id": "e-vvqQbVZ7aQ"
      }
    },
    {
      "cell_type": "code",
      "source": [
        "class N26Bank:\n",
        "  def __init__(self,name,balance):\n",
        "    self.name=name\n",
        "    self.__balance=balance # Private Attributes\n",
        "  def deposit(self,amount):\n",
        "    self.__balance+=amount\n",
        "  def current_balance(self):\n",
        "    return self.__balance\n",
        "\n",
        "atul_ac = N26Bank('Atul',1000)\n",
        "atul_ac.deposit(500)\n",
        "print(atul_ac.current_balance())"
      ],
      "metadata": {
        "colab": {
          "base_uri": "https://localhost:8080/"
        },
        "id": "_5dHkdCDZ_MP",
        "outputId": "9cc6d830-13c3-4a1b-f249-8cbc66174231"
      },
      "execution_count": 6,
      "outputs": [
        {
          "output_type": "stream",
          "name": "stdout",
          "text": [
            "1500\n"
          ]
        }
      ]
    },
    {
      "cell_type": "markdown",
      "source": [
        "#Inheritance"
      ],
      "metadata": {
        "id": "zoF4cmoSa0bC"
      }
    },
    {
      "cell_type": "code",
      "source": [
        "class Vehicle:\n",
        "  def __init__(self,name):\n",
        "    self.name=name\n",
        "  def price(self):\n",
        "    pass\n",
        "\n",
        "class Bus(Vehicle):\n",
        "  def __init__(self,name,price):\n",
        "    super().__init__(name)\n",
        "    self._price=price\n",
        "  def price(self):\n",
        "    return self._price\n",
        "class Car(Vehicle):\n",
        "  def __init__(self,name,price):\n",
        "    super().__init__(name)\n",
        "    self._price=price\n",
        "  def price(self):\n",
        "    return self._price\n",
        "\n",
        "bus1 = Bus('Yellow Bus',10000)\n",
        "car1 = Car('Red Car',5000)\n",
        "print(bus1.price())\n",
        "print(car1.price())"
      ],
      "metadata": {
        "colab": {
          "base_uri": "https://localhost:8080/"
        },
        "id": "NuxWmjdOa2gX",
        "outputId": "57649e63-8143-4288-ea4e-bad8a63ab5e1"
      },
      "execution_count": 9,
      "outputs": [
        {
          "output_type": "stream",
          "name": "stdout",
          "text": [
            "10000\n",
            "5000\n"
          ]
        }
      ]
    },
    {
      "cell_type": "markdown",
      "source": [
        "#Polymorphism"
      ],
      "metadata": {
        "id": "mYr9IWDMcJE8"
      }
    },
    {
      "cell_type": "code",
      "source": [
        "class Bank_fees:\n",
        "  def __init__(self,name):\n",
        "    self.name=name\n",
        "  def fees(self):\n",
        "    pass\n",
        "\n",
        "class Standard(Bank_fees):\n",
        "  def __init__(self,name):\n",
        "    super().__init__(name)\n",
        "  def fees(self):\n",
        "    return 100\n",
        "\n",
        "class Premium(Bank_fees):\n",
        "  def __init__(self,name):\n",
        "    super().__init__(name)\n",
        "  def fees(self):\n",
        "    return 200\n",
        "stand_acc = Standard('Atul')\n",
        "prem_acc = Premium('Atul')\n",
        "print(stand_acc.fees())\n",
        "print(prem_acc.fees())"
      ],
      "metadata": {
        "colab": {
          "base_uri": "https://localhost:8080/"
        },
        "id": "ZxPnIPN8cNrx",
        "outputId": "2a6e88a9-0b83-4814-c045-20ea91f6820f"
      },
      "execution_count": 10,
      "outputs": [
        {
          "output_type": "stream",
          "name": "stdout",
          "text": [
            "100\n",
            "200\n"
          ]
        }
      ]
    },
    {
      "cell_type": "markdown",
      "source": [
        "#Abstraction\n",
        "\n",
        "in python we use\n",
        "from abc import ABC, abstractmethod\n",
        "for defining the abstract class and method"
      ],
      "metadata": {
        "id": "KVWIMpFTc3mZ"
      }
    },
    {
      "cell_type": "code",
      "source": [
        "from abc import ABC, abstractmethod\n",
        "\n",
        "class Account(ABC):\n",
        "  @abstractmethod\n",
        "  def account_type():\n",
        "    pass\n",
        "\n",
        "class Current(Account):\n",
        "  def account_type(self):\n",
        "    print('Current Account')\n",
        "class Saving(Account):\n",
        "  def account_type(self):\n",
        "    print('Saving Account')\n",
        "\n",
        "current_acc = Current()\n",
        "saving_acc = Saving()\n",
        "current_acc.account_type()\n",
        "saving_acc.account_type()"
      ],
      "metadata": {
        "colab": {
          "base_uri": "https://localhost:8080/"
        },
        "id": "SRzSen9PdQWK",
        "outputId": "a1c5481c-2c81-4f9c-8e58-cfa20884c800"
      },
      "execution_count": 11,
      "outputs": [
        {
          "output_type": "stream",
          "name": "stdout",
          "text": [
            "Current Account\n",
            "Saving Account\n"
          ]
        }
      ]
    },
    {
      "cell_type": "markdown",
      "source": [
        "#Method Overloading\n",
        "\n",
        "python does not support method overloading\n",
        "but we can use **args"
      ],
      "metadata": {
        "id": "uJN7FewEeABL"
      }
    },
    {
      "cell_type": "code",
      "source": [
        "class Calc:\n",
        "  def addition(self, **args):\n",
        "    return sum(args.values())\n",
        "\n",
        "calc = Calc()\n",
        "print(calc.addition(a=1,b=2,c=3))"
      ],
      "metadata": {
        "colab": {
          "base_uri": "https://localhost:8080/"
        },
        "id": "bfItcqhueQaa",
        "outputId": "55d17bbd-2b55-4b0e-e555-0806242763ed"
      },
      "execution_count": 12,
      "outputs": [
        {
          "output_type": "stream",
          "name": "stdout",
          "text": [
            "6\n"
          ]
        }
      ]
    }
  ]
}