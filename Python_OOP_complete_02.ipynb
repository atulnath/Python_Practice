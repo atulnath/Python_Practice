{
  "nbformat": 4,
  "nbformat_minor": 0,
  "metadata": {
    "colab": {
      "provenance": [],
      "authorship_tag": "ABX9TyP5hFZwrmMXdxn4IkgqGHo4",
      "include_colab_link": true
    },
    "kernelspec": {
      "name": "python3",
      "display_name": "Python 3"
    },
    "language_info": {
      "name": "python"
    }
  },
  "cells": [
    {
      "cell_type": "markdown",
      "metadata": {
        "id": "view-in-github",
        "colab_type": "text"
      },
      "source": [
        "<a href=\"https://colab.research.google.com/github/atulnath/Python_Practice/blob/main/Python_OOP_complete_02.ipynb\" target=\"_parent\"><img src=\"https://colab.research.google.com/assets/colab-badge.svg\" alt=\"Open In Colab\"/></a>"
      ]
    },
    {
      "cell_type": "markdown",
      "source": [
        "#Dunder/Magic Methods\n",
        "\n",
        "\n",
        "\n",
        "```\n",
        "__init__\n",
        "__str__\n",
        "__len__\n",
        "```\n",
        "\n"
      ],
      "metadata": {
        "id": "R__ByXcZwdPU"
      }
    },
    {
      "cell_type": "code",
      "source": [
        "class Resurants:\n",
        "  def __init__(self, name, rating, orders):\n",
        "    self.name = name\n",
        "    self.rating = rating\n",
        "    self.number_of_orders = orders\n",
        "\n",
        "  def __str__(self):\n",
        "    return f\"{self.name} has {self.rating} ratings\"\n",
        "\n",
        "  def __len__(self):\n",
        "    return self.number_of_orders\n",
        "current_rest = Resurants('BK Resurants', 3.5,100)\n",
        "print(current_rest)\n",
        "print(\"Already got \",len(current_rest),' Orders')"
      ],
      "metadata": {
        "colab": {
          "base_uri": "https://localhost:8080/"
        },
        "id": "Zo__qb1wxJ4G",
        "outputId": "b230d3a7-a055-4ccc-88ca-f17793fa1189"
      },
      "execution_count": 3,
      "outputs": [
        {
          "output_type": "stream",
          "name": "stdout",
          "text": [
            "BK Resurants has 3.5 ratings\n",
            "Already got  100  Orders\n"
          ]
        }
      ]
    },
    {
      "cell_type": "markdown",
      "source": [
        "# Static Method\n",
        "- has no relation to class or object\n",
        "\n",
        "# Class method\n",
        "- has relation on class"
      ],
      "metadata": {
        "id": "0j6z2IxHyUx4"
      }
    },
    {
      "cell_type": "code",
      "source": [
        "class Calculator:\n",
        "  @staticmethod\n",
        "  def add(a,b):\n",
        "    return a+b\n",
        "\n",
        "  @staticmethod\n",
        "  def sub(a,b):\n",
        "    return a-b\n",
        "  @classmethod\n",
        "  def class_info(cls): # cls parameter is necessary to define the class method\n",
        "    return f\"This is a {__name__} class\"\n",
        "print(Calculator.add(10,20))\n",
        "print(Calculator.sub(10,20))\n",
        "print(Calculator.class_info())"
      ],
      "metadata": {
        "colab": {
          "base_uri": "https://localhost:8080/"
        },
        "id": "XRl7_JATykmV",
        "outputId": "f0c6a5a1-544a-4aa5-fa6b-dcf9840274ec"
      },
      "execution_count": 7,
      "outputs": [
        {
          "output_type": "stream",
          "name": "stdout",
          "text": [
            "30\n",
            "-10\n",
            "This is a __main__ class\n"
          ]
        }
      ]
    },
    {
      "cell_type": "markdown",
      "source": [
        "# Property decorators\n",
        "\n",
        "- methods are used as attributes (like variable)"
      ],
      "metadata": {
        "id": "rU_h5E-6zjG7"
      }
    },
    {
      "cell_type": "code",
      "source": [
        "class Salary:\n",
        "  def __init__(self, pay):\n",
        "    self._pay = pay\n",
        "\n",
        "  @property\n",
        "  def salary(self):\n",
        "    return self._pay\n",
        "\n",
        "  @salary.setter\n",
        "  def salary(self,  bonus):\n",
        "    self._pay = self._pay + bonus\n",
        "\n",
        "emp = Salary(1000)\n",
        "print(emp.salary)\n",
        "emp.salary = 200 # methods are use as if attributes\n",
        "print(emp.salary)"
      ],
      "metadata": {
        "colab": {
          "base_uri": "https://localhost:8080/"
        },
        "id": "R3zhWgq-z0q7",
        "outputId": "1925cdd7-4adf-4d6a-fabe-23c7084614ce"
      },
      "execution_count": 9,
      "outputs": [
        {
          "output_type": "stream",
          "name": "stdout",
          "text": [
            "1000\n",
            "1200\n"
          ]
        }
      ]
    },
    {
      "cell_type": "markdown",
      "source": [
        "# Multiple inhertances\n",
        "\n",
        "it uses MRO -> Method Resolution Order, that means: Child(Papa, Mama) -> here\n",
        "child will accuire from papa first"
      ],
      "metadata": {
        "id": "DMlXkTw61PmG"
      }
    },
    {
      "cell_type": "code",
      "source": [
        "class Papa:\n",
        "  def skill(self):\n",
        "    return \"Driving\"\n",
        "class Mama:\n",
        "  def skill(self):\n",
        "    return \"Cooking\"\n",
        "class Child(Papa, Mama):\n",
        "  pass\n",
        "child = Child()\n",
        "print(child.skill())"
      ],
      "metadata": {
        "colab": {
          "base_uri": "https://localhost:8080/"
        },
        "id": "nGhC6Xhe1V1U",
        "outputId": "a55aa560-c18b-4a9e-c1a3-d11d4c332591"
      },
      "execution_count": 10,
      "outputs": [
        {
          "output_type": "stream",
          "name": "stdout",
          "text": [
            "Driving\n"
          ]
        }
      ]
    },
    {
      "cell_type": "markdown",
      "source": [
        "# Mixin or Composition"
      ],
      "metadata": {
        "id": "WdZ2qKt22ZOG"
      }
    },
    {
      "cell_type": "code",
      "source": [
        "# One class can use object of another class\n",
        "\n",
        "class Papa:\n",
        "  def Money(self):\n",
        "    return 10000\n",
        "class Child:\n",
        "  def __init__(self):\n",
        "    self.Papa = Papa()\n",
        "  def money(self):\n",
        "    return self.Papa.Money()\n",
        "child = Child()\n",
        "print(child.money())"
      ],
      "metadata": {
        "colab": {
          "base_uri": "https://localhost:8080/"
        },
        "id": "rIlqNVPm2gUu",
        "outputId": "c51cedc4-e33f-403f-962a-b19b09678f1c"
      },
      "execution_count": 11,
      "outputs": [
        {
          "output_type": "stream",
          "name": "stdout",
          "text": [
            "10000\n"
          ]
        }
      ]
    }
  ]
}