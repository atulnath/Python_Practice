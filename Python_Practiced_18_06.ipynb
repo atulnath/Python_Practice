{
  "nbformat": 4,
  "nbformat_minor": 0,
  "metadata": {
    "colab": {
      "provenance": [],
      "authorship_tag": "ABX9TyO1ZkL9nccH0hxm9ubasAPI",
      "include_colab_link": true
    },
    "kernelspec": {
      "name": "python3",
      "display_name": "Python 3"
    },
    "language_info": {
      "name": "python"
    }
  },
  "cells": [
    {
      "cell_type": "markdown",
      "metadata": {
        "id": "view-in-github",
        "colab_type": "text"
      },
      "source": [
        "<a href=\"https://colab.research.google.com/github/atulnath/Python_Practice/blob/main/Python_Practiced_18_06.ipynb\" target=\"_parent\"><img src=\"https://colab.research.google.com/assets/colab-badge.svg\" alt=\"Open In Colab\"/></a>"
      ]
    },
    {
      "cell_type": "code",
      "execution_count": 1,
      "metadata": {
        "colab": {
          "base_uri": "https://localhost:8080/"
        },
        "id": "muY79kS_yBcy",
        "outputId": "7e9489f1-4db2-4ca3-a6a2-3c31ffe4f2b2"
      },
      "outputs": [
        {
          "output_type": "execute_result",
          "data": {
            "text/plain": [
              "(inf, inf)"
            ]
          },
          "metadata": {},
          "execution_count": 1
        }
      ],
      "source": [
        "temp1 = temp2 = float(\"inf\")\n",
        "\n",
        "temp1, temp2"
      ]
    },
    {
      "cell_type": "code",
      "source": [
        "type(temp1)"
      ],
      "metadata": {
        "colab": {
          "base_uri": "https://localhost:8080/"
        },
        "id": "gLF86-CJyXug",
        "outputId": "bb39240a-4d6d-4300-d3e3-96d922b332a4"
      },
      "execution_count": 2,
      "outputs": [
        {
          "output_type": "execute_result",
          "data": {
            "text/plain": [
              "float"
            ]
          },
          "metadata": {},
          "execution_count": 2
        }
      ]
    },
    {
      "cell_type": "code",
      "source": [
        "num = 5\n",
        "\n",
        "str_num = str(num)\n",
        "\n",
        "type(num), type(str_num)"
      ],
      "metadata": {
        "colab": {
          "base_uri": "https://localhost:8080/"
        },
        "id": "LeSlUQwuydwm",
        "outputId": "c17ce744-9f21-4676-b2ae-9143b5c56bea"
      },
      "execution_count": 3,
      "outputs": [
        {
          "output_type": "execute_result",
          "data": {
            "text/plain": [
              "(int, str)"
            ]
          },
          "metadata": {},
          "execution_count": 3
        }
      ]
    },
    {
      "cell_type": "code",
      "source": [
        "num = int(str_num)\n",
        "\n",
        "type(num)"
      ],
      "metadata": {
        "colab": {
          "base_uri": "https://localhost:8080/"
        },
        "id": "uXw1RF3ZysKC",
        "outputId": "6613fe6a-46ae-4515-ad14-ce0762975ee3"
      },
      "execution_count": 4,
      "outputs": [
        {
          "output_type": "execute_result",
          "data": {
            "text/plain": [
              "int"
            ]
          },
          "metadata": {},
          "execution_count": 4
        }
      ]
    },
    {
      "cell_type": "code",
      "source": [
        "# In print, we can use, end to express what will happen after output printed\n",
        "# sep to show how each args will be seperated\n",
        "\n",
        "print(\"Hello World\")\n",
        "print(\"Atul\")"
      ],
      "metadata": {
        "colab": {
          "base_uri": "https://localhost:8080/"
        },
        "id": "A60XJ2pzzCoo",
        "outputId": "cfaa4779-f6ba-421b-bf7e-56361747a75d"
      },
      "execution_count": 5,
      "outputs": [
        {
          "output_type": "stream",
          "name": "stdout",
          "text": [
            "Hello World\n",
            "Atul\n"
          ]
        }
      ]
    },
    {
      "cell_type": "code",
      "source": [
        "print(\"Hello World\", end=' ')\n",
        "print(\"Atul\")"
      ],
      "metadata": {
        "colab": {
          "base_uri": "https://localhost:8080/"
        },
        "id": "jnPedT5Pzi3g",
        "outputId": "6a97c3fa-847e-41cb-fe1c-d5ffe9d23172"
      },
      "execution_count": 6,
      "outputs": [
        {
          "output_type": "stream",
          "name": "stdout",
          "text": [
            "Hello World Atul\n"
          ]
        }
      ]
    },
    {
      "cell_type": "code",
      "source": [
        "num = 5\n",
        "\n",
        "print(num, 'is printed with space and', 'space also added to this string', sep=' ')"
      ],
      "metadata": {
        "colab": {
          "base_uri": "https://localhost:8080/"
        },
        "id": "0K0lTITCzoSn",
        "outputId": "85b2e7be-8818-43ad-a678-b3dcea464cda"
      },
      "execution_count": 9,
      "outputs": [
        {
          "output_type": "stream",
          "name": "stdout",
          "text": [
            "5 is printed with space and space also added to this string\n"
          ]
        }
      ]
    },
    {
      "cell_type": "code",
      "source": [
        "print(\"Hello \" + \"World\")"
      ],
      "metadata": {
        "colab": {
          "base_uri": "https://localhost:8080/"
        },
        "id": "WSPHR3-H0Rmh",
        "outputId": "8c764a66-6763-49f8-ab0b-a29f991cd33b"
      },
      "execution_count": 10,
      "outputs": [
        {
          "output_type": "stream",
          "name": "stdout",
          "text": [
            "Hello World\n"
          ]
        }
      ]
    },
    {
      "cell_type": "code",
      "source": [
        "a,b = 5,6\n",
        "\n",
        "print(\"Value of a: {} and Value of b: {}.\".format(a,b))"
      ],
      "metadata": {
        "colab": {
          "base_uri": "https://localhost:8080/"
        },
        "id": "ZSyjGhNH0XPP",
        "outputId": "f24f3b53-1b93-48c0-ff24-dc7d307c1d8e"
      },
      "execution_count": 11,
      "outputs": [
        {
          "output_type": "stream",
          "name": "stdout",
          "text": [
            "Value of a: 5 and Value of b: 6.\n"
          ]
        }
      ]
    },
    {
      "cell_type": "code",
      "source": [
        "number = input('Enter a number: ')\n",
        "\n",
        "print(\"Number: \",number)\n",
        "\n",
        "print(type(number))"
      ],
      "metadata": {
        "colab": {
          "base_uri": "https://localhost:8080/"
        },
        "id": "K4bRVCGp0yya",
        "outputId": "f4844f5f-9a52-48ee-db51-74bd46adb97c"
      },
      "execution_count": 12,
      "outputs": [
        {
          "output_type": "stream",
          "name": "stdout",
          "text": [
            "Enter a number: 6\n",
            "Number:  6\n",
            "<class 'str'>\n"
          ]
        }
      ]
    }
  ]
}