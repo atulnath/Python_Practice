{
  "nbformat": 4,
  "nbformat_minor": 0,
  "metadata": {
    "colab": {
      "provenance": [],
      "authorship_tag": "ABX9TyPKr4oazcZ1P/FIjfU5tEzg",
      "include_colab_link": true
    },
    "kernelspec": {
      "name": "python3",
      "display_name": "Python 3"
    },
    "language_info": {
      "name": "python"
    }
  },
  "cells": [
    {
      "cell_type": "markdown",
      "metadata": {
        "id": "view-in-github",
        "colab_type": "text"
      },
      "source": [
        "<a href=\"https://colab.research.google.com/github/atulnath/Python_Practice/blob/main/Python_comprehensions.ipynb\" target=\"_parent\"><img src=\"https://colab.research.google.com/assets/colab-badge.svg\" alt=\"Open In Colab\"/></a>"
      ]
    },
    {
      "cell_type": "markdown",
      "source": [
        "# List Comprehensions"
      ],
      "metadata": {
        "id": "jVTXp40n2JCs"
      }
    },
    {
      "cell_type": "code",
      "execution_count": null,
      "metadata": {
        "colab": {
          "base_uri": "https://localhost:8080/"
        },
        "id": "3Svh5AOE08Pe",
        "outputId": "0536a2a4-0079-4fec-fb25-2ed64a1f8b63"
      },
      "outputs": [
        {
          "output_type": "stream",
          "name": "stdout",
          "text": [
            "[0, 1, 2, 3, 4]\n"
          ]
        }
      ],
      "source": [
        "print([x for x in range(5)])\n",
        "#Output: [0,1,2,3,4]"
      ]
    },
    {
      "cell_type": "code",
      "source": [
        "print([x**2 for x in range(5)])\n",
        "#Output: [0,1,4,9,16]"
      ],
      "metadata": {
        "colab": {
          "base_uri": "https://localhost:8080/"
        },
        "id": "mcTlvQIA1S6i",
        "outputId": "c68c15dc-c543-4e55-f68a-f85c0dda7ff0"
      },
      "execution_count": null,
      "outputs": [
        {
          "output_type": "stream",
          "name": "stdout",
          "text": [
            "[0, 1, 4, 9, 16]\n"
          ]
        }
      ]
    },
    {
      "cell_type": "code",
      "source": [
        "print([x for x in range(10) if x%2==0])\n",
        "#Output: [0,2,4,6,8]"
      ],
      "metadata": {
        "colab": {
          "base_uri": "https://localhost:8080/"
        },
        "id": "SE2H3FvM1gJJ",
        "outputId": "a84d033a-b247-4782-d989-cf626f20880d"
      },
      "execution_count": null,
      "outputs": [
        {
          "output_type": "stream",
          "name": "stdout",
          "text": [
            "[0, 2, 4, 6, 8]\n"
          ]
        }
      ]
    },
    {
      "cell_type": "code",
      "source": [
        "print([x for x in range(20) if x%2==0 and x%3==0])"
      ],
      "metadata": {
        "colab": {
          "base_uri": "https://localhost:8080/"
        },
        "id": "aDfIzRTIU8E-",
        "outputId": "41405b08-2416-465b-d68d-ea3ce2277bcc"
      },
      "execution_count": null,
      "outputs": [
        {
          "output_type": "stream",
          "name": "stdout",
          "text": [
            "[0, 6, 12, 18]\n"
          ]
        }
      ]
    },
    {
      "cell_type": "markdown",
      "source": [
        "# Set Comprehensions"
      ],
      "metadata": {
        "id": "dEe0rAmx2RiY"
      }
    },
    {
      "cell_type": "code",
      "source": [
        "print({x for x in range(5)})\n",
        "print({x**2 for x in range(5)})\n",
        "print({x for x in range(10) if x%2==0})"
      ],
      "metadata": {
        "colab": {
          "base_uri": "https://localhost:8080/"
        },
        "id": "nYTx_QoI2Vgy",
        "outputId": "65d9080e-713f-4df1-d4e7-7c8981abb0ff"
      },
      "execution_count": null,
      "outputs": [
        {
          "output_type": "stream",
          "name": "stdout",
          "text": [
            "{0, 1, 2, 3, 4}\n",
            "{0, 1, 4, 9, 16}\n",
            "{0, 2, 4, 6, 8}\n"
          ]
        }
      ]
    },
    {
      "cell_type": "markdown",
      "source": [
        "# Dictionary Comprehensions"
      ],
      "metadata": {
        "id": "GekXLKMF2tJe"
      }
    },
    {
      "cell_type": "code",
      "source": [
        "print({x:x for x in range(5)})\n",
        "print({k:v for k,v in [('a',1),('b',2)]}) #k got 'a' and v got 1\n",
        "print({x: chr(65+x) for x in range(5)})"
      ],
      "metadata": {
        "colab": {
          "base_uri": "https://localhost:8080/"
        },
        "id": "xZj-e70X2w0A",
        "outputId": "900be2bf-6e36-47e1-fe20-63ca7f370eea"
      },
      "execution_count": null,
      "outputs": [
        {
          "output_type": "stream",
          "name": "stdout",
          "text": [
            "{0: 0, 1: 1, 2: 2, 3: 3, 4: 4}\n",
            "{'a': 1, 'b': 2}\n",
            "{0: 'A', 1: 'B', 2: 'C', 3: 'D', 4: 'E'}\n"
          ]
        }
      ]
    },
    {
      "cell_type": "markdown",
      "source": [
        "# Generator Expression"
      ],
      "metadata": {
        "id": "167bftjy5IgJ"
      }
    },
    {
      "cell_type": "code",
      "source": [
        "x = (x for x in range(5))\n",
        "for val in x:\n",
        "  print(val)"
      ],
      "metadata": {
        "colab": {
          "base_uri": "https://localhost:8080/"
        },
        "id": "bSKcHUK75Pbp",
        "outputId": "ff1feed1-144e-46cc-9726-866267396f0b"
      },
      "execution_count": null,
      "outputs": [
        {
          "output_type": "stream",
          "name": "stdout",
          "text": [
            "0\n",
            "1\n",
            "2\n",
            "3\n",
            "4\n"
          ]
        }
      ]
    },
    {
      "cell_type": "code",
      "source": [
        "x = sum(x for x in range(5))\n",
        "\n",
        "print(x)"
      ],
      "metadata": {
        "colab": {
          "base_uri": "https://localhost:8080/"
        },
        "id": "HHs9xZMi5wu7",
        "outputId": "7d753f34-0317-4733-f6c4-966886d7649f"
      },
      "execution_count": null,
      "outputs": [
        {
          "output_type": "stream",
          "name": "stdout",
          "text": [
            "10\n"
          ]
        }
      ]
    },
    {
      "cell_type": "markdown",
      "source": [
        "**So Lets Break it Down:**\n",
        "\n",
        "[] -> for List\n",
        "{} -> for Set\n",
        "{:} -> for dictionary\n",
        "() -> Generators\n",
        "sum() -> Generators"
      ],
      "metadata": {
        "id": "6jWutukw6B3E"
      }
    },
    {
      "cell_type": "markdown",
      "source": [
        "# Nested Comprehensions"
      ],
      "metadata": {
        "id": "Sx1n1d0Y8GWp"
      }
    },
    {
      "cell_type": "code",
      "source": [
        "print([[i*j for j in range(3)] for i in range(3)])\n",
        "\n",
        "#i = 0, -> [0,0,0]\n",
        "#i= 1, -> [0,1,2]\n",
        "#i= 2, -> [0,2,4]"
      ],
      "metadata": {
        "colab": {
          "base_uri": "https://localhost:8080/"
        },
        "id": "ShZPfkpx8L7p",
        "outputId": "d021bf30-65e9-4bd9-911d-3f5edf2bf032"
      },
      "execution_count": null,
      "outputs": [
        {
          "output_type": "stream",
          "name": "stdout",
          "text": [
            "[[0, 0, 0], [0, 1, 2], [0, 2, 4]]\n"
          ]
        }
      ]
    },
    {
      "cell_type": "markdown",
      "source": [
        "# Comprehensions with if inside"
      ],
      "metadata": {
        "id": "Ywq5VJZO981B"
      }
    },
    {
      "cell_type": "code",
      "source": [
        "print([x if x%2 == 0 else -x for x in range(5)])"
      ],
      "metadata": {
        "colab": {
          "base_uri": "https://localhost:8080/"
        },
        "id": "gUSENF8G-CZx",
        "outputId": "2b486028-afa4-45b0-da06-fbfa7b2cdfc7"
      },
      "execution_count": null,
      "outputs": [
        {
          "output_type": "stream",
          "name": "stdout",
          "text": [
            "[0, -1, 2, -3, 4]\n"
          ]
        }
      ]
    },
    {
      "cell_type": "code",
      "source": [
        "print([x  for x in range(5)if x%2 == 0])"
      ],
      "metadata": {
        "colab": {
          "base_uri": "https://localhost:8080/"
        },
        "id": "WylZ-ble-fCp",
        "outputId": "d7df57a7-5c41-48b4-9cd4-f8fe6d11430a"
      },
      "execution_count": null,
      "outputs": [
        {
          "output_type": "stream",
          "name": "stdout",
          "text": [
            "[0, 2, 4]\n"
          ]
        }
      ]
    },
    {
      "cell_type": "markdown",
      "source": [
        "# Comprehension with Functions"
      ],
      "metadata": {
        "id": "rBStoVWTRWUs"
      }
    },
    {
      "cell_type": "code",
      "source": [
        "def square(x): return x*x\n",
        "[square(x) for x in range(5)]"
      ],
      "metadata": {
        "colab": {
          "base_uri": "https://localhost:8080/"
        },
        "id": "GDbC51qkRYLh",
        "outputId": "88acd103-b985-4056-b71d-d2ab81b75f77"
      },
      "execution_count": null,
      "outputs": [
        {
          "output_type": "execute_result",
          "data": {
            "text/plain": [
              "[0, 1, 4, 9, 16]"
            ]
          },
          "metadata": {},
          "execution_count": 6
        }
      ]
    },
    {
      "cell_type": "markdown",
      "source": [
        "# Comprehension with Multiple Loops"
      ],
      "metadata": {
        "id": "cp4W5huaR1dN"
      }
    },
    {
      "cell_type": "code",
      "source": [
        "for x in range(3):\n",
        "  for y in range(2):\n",
        "    print(x,y)"
      ],
      "metadata": {
        "colab": {
          "base_uri": "https://localhost:8080/"
        },
        "id": "JWEmCMS7R7iY",
        "outputId": "f3218bc3-a054-4324-ad29-13da39292068"
      },
      "execution_count": null,
      "outputs": [
        {
          "output_type": "stream",
          "name": "stdout",
          "text": [
            "0 0\n",
            "0 1\n",
            "1 0\n",
            "1 1\n",
            "2 0\n",
            "2 1\n"
          ]
        }
      ]
    },
    {
      "cell_type": "code",
      "source": [
        "print([(outer,inner) for outer in range(3) for inner in range(2)])"
      ],
      "metadata": {
        "colab": {
          "base_uri": "https://localhost:8080/"
        },
        "id": "GRhOh2jdSjox",
        "outputId": "e0fc95f2-0947-443b-8d08-a052624cb63c"
      },
      "execution_count": null,
      "outputs": [
        {
          "output_type": "stream",
          "name": "stdout",
          "text": [
            "[(0, 0), (0, 1), (1, 0), (1, 1), (2, 0), (2, 1)]\n"
          ]
        }
      ]
    },
    {
      "cell_type": "code",
      "source": [
        "[outer*inner for outer in range(3) for inner in range(3) ]"
      ],
      "metadata": {
        "colab": {
          "base_uri": "https://localhost:8080/"
        },
        "id": "R40E6aQsUhpR",
        "outputId": "172a0ae0-f105-4de7-aa09-ac3733a8bfa8"
      },
      "execution_count": null,
      "outputs": [
        {
          "output_type": "execute_result",
          "data": {
            "text/plain": [
              "[0, 0, 0, 0, 1, 2, 0, 2, 4]"
            ]
          },
          "metadata": {},
          "execution_count": 14
        }
      ]
    },
    {
      "cell_type": "code",
      "source": [
        "matrix = [\n",
        " [1, 2],\n",
        " [3, 4],\n",
        " [5, 6]\n",
        "]\n",
        "#Flattened 2D in 1D\n",
        "arr=[]\n",
        "for row in matrix:\n",
        "  for x in row:\n",
        "    arr.append(x)\n",
        "print(arr)"
      ],
      "metadata": {
        "colab": {
          "base_uri": "https://localhost:8080/"
        },
        "id": "vdF-dGkoVqVC",
        "outputId": "3e0ac28c-af6e-4427-8647-5b72ac2cb161"
      },
      "execution_count": null,
      "outputs": [
        {
          "output_type": "stream",
          "name": "stdout",
          "text": [
            "[1, 2, 3, 4, 5, 6]\n"
          ]
        }
      ]
    },
    {
      "cell_type": "code",
      "source": [
        "print([x for row in matrix for x in row])"
      ],
      "metadata": {
        "colab": {
          "base_uri": "https://localhost:8080/"
        },
        "id": "ouIrbtdkWJ3q",
        "outputId": "01058f59-d28b-4817-f5f1-f8aed740a929"
      },
      "execution_count": null,
      "outputs": [
        {
          "output_type": "stream",
          "name": "stdout",
          "text": [
            "[1, 2, 3, 4, 5, 6]\n"
          ]
        }
      ]
    },
    {
      "cell_type": "markdown",
      "source": [
        "# Transposing a Matrix"
      ],
      "metadata": {
        "id": "w_rOB72qXRE5"
      }
    },
    {
      "cell_type": "code",
      "source": [
        "matrix = [[1,2,3],[4,5,6]]\n",
        "\n",
        "for row in matrix:\n",
        "  print(row)\n",
        "\n",
        "print([[row[i] for row in matrix] for i in range(3)])"
      ],
      "metadata": {
        "colab": {
          "base_uri": "https://localhost:8080/"
        },
        "id": "A4_ebmnYXMxb",
        "outputId": "bdecc674-c0e9-4182-9ce2-cd598d59f7cd"
      },
      "execution_count": null,
      "outputs": [
        {
          "output_type": "stream",
          "name": "stdout",
          "text": [
            "[1, 2, 3]\n",
            "[4, 5, 6]\n",
            "[[1, 4], [2, 5], [3, 6]]\n"
          ]
        }
      ]
    }
  ]
}