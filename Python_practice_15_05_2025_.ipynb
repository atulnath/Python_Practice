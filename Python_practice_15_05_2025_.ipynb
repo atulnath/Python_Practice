{
  "nbformat": 4,
  "nbformat_minor": 0,
  "metadata": {
    "colab": {
      "provenance": [],
      "authorship_tag": "ABX9TyOE8391rBOd7VPPHZzJTJFF",
      "include_colab_link": true
    },
    "kernelspec": {
      "name": "python3",
      "display_name": "Python 3"
    },
    "language_info": {
      "name": "python"
    }
  },
  "cells": [
    {
      "cell_type": "markdown",
      "metadata": {
        "id": "view-in-github",
        "colab_type": "text"
      },
      "source": [
        "<a href=\"https://colab.research.google.com/github/atulnath/Python_Practice/blob/main/Python_practice_15_05_2025_.ipynb\" target=\"_parent\"><img src=\"https://colab.research.google.com/assets/colab-badge.svg\" alt=\"Open In Colab\"/></a>"
      ]
    },
    {
      "cell_type": "code",
      "execution_count": 1,
      "metadata": {
        "colab": {
          "base_uri": "https://localhost:8080/"
        },
        "id": "96TAS1sqnESH",
        "outputId": "2866793a-d70f-4054-9807-c2ab502b622f"
      },
      "outputs": [
        {
          "output_type": "stream",
          "name": "stdout",
          "text": [
            "Atul 30\n"
          ]
        }
      ],
      "source": [
        "my_name = 'Atul'\n",
        "my_age =30\n",
        "\n",
        "print(my_name, my_age)"
      ]
    },
    {
      "cell_type": "markdown",
      "source": [
        "# All data types"
      ],
      "metadata": {
        "id": "rAgTADbLo15e"
      }
    },
    {
      "cell_type": "code",
      "source": [
        "# : int type anotation, if mistake warrning will be applied,\n",
        "# no problem when execution\n",
        "\n",
        "num: int = 10\n",
        "print(num)\n",
        "decimal: float = 1.2\n",
        "txt: str = 'Hello Atul'\n",
        "isFalse: bool = False\n",
        "\n",
        "listItem: list = ['A','B','C']\n",
        "tuples: tuple =(1,2,3)\n",
        "uniqSet: set = {1,2,3,4}\n",
        "mapp: dict={'A':2,'B':3}"
      ],
      "metadata": {
        "colab": {
          "base_uri": "https://localhost:8080/"
        },
        "id": "H8sx1Zm-o5Ub",
        "outputId": "5fbd632c-cc5b-46b9-ecc1-106bb41caef2"
      },
      "execution_count": 7,
      "outputs": [
        {
          "output_type": "stream",
          "name": "stdout",
          "text": [
            "10\n"
          ]
        }
      ]
    },
    {
      "cell_type": "markdown",
      "source": [
        "# Constants"
      ],
      "metadata": {
        "id": "LlOFImsZqGN8"
      }
    },
    {
      "cell_type": "code",
      "source": [
        "from typing import Final\n",
        "\n",
        "VERSION: Final[str] = '1.1.0'\n"
      ],
      "metadata": {
        "id": "i_yjBrM1qJDB"
      },
      "execution_count": null,
      "outputs": []
    },
    {
      "cell_type": "markdown",
      "source": [
        "# Date and time"
      ],
      "metadata": {
        "id": "21D0k3nUqcNB"
      }
    },
    {
      "cell_type": "code",
      "source": [
        "from datetime import datetime\n",
        "print(datetime.now())"
      ],
      "metadata": {
        "colab": {
          "base_uri": "https://localhost:8080/"
        },
        "id": "d7v8Pw0Uqgbz",
        "outputId": "7e448ed1-bda6-4dad-9b39-d2e3ffa67ba5"
      },
      "execution_count": 8,
      "outputs": [
        {
          "output_type": "stream",
          "name": "stdout",
          "text": [
            "2025-05-15 11:18:14.153629\n"
          ]
        }
      ]
    },
    {
      "cell_type": "markdown",
      "source": [
        "# Function"
      ],
      "metadata": {
        "id": "EwY01H9Tq0YE"
      }
    },
    {
      "cell_type": "code",
      "source": [
        "from datetime import datetime\n",
        "def currentTime() -> None:\n",
        "  print(datetime.now())\n",
        "\n",
        "currentTime()\n",
        "#f string\n",
        "def yourAge(age:int) -> None:\n",
        "  print(f'Your Age is: {age}')\n",
        "\n",
        "yourAge(12)\n",
        "yourAge(10)\n",
        "\n",
        "#Add 10 with age\n",
        "\n",
        "def yourAge(age:int) -> int:\n",
        "  print(f'Your Age is: {age + 10}')\n",
        "\n",
        "yourAge(12)\n",
        "yourAge(10)\n"
      ],
      "metadata": {
        "colab": {
          "base_uri": "https://localhost:8080/"
        },
        "id": "CYorViwYq3ka",
        "outputId": "786e59f5-3590-4517-ebce-4214ce14a1ba"
      },
      "execution_count": 13,
      "outputs": [
        {
          "output_type": "stream",
          "name": "stdout",
          "text": [
            "2025-05-15 11:23:43.854541\n",
            "Your Age is: 12\n",
            "Your Age is: 10\n",
            "Your Age is: 22\n",
            "Your Age is: 20\n"
          ]
        }
      ]
    },
    {
      "cell_type": "markdown",
      "source": [
        "# Class"
      ],
      "metadata": {
        "id": "xqLyBQjmsBrf"
      }
    },
    {
      "cell_type": "code",
      "source": [
        "class Student:\n",
        "  ...\n"
      ],
      "metadata": {
        "id": "Xf9fvnAAsDiq"
      },
      "execution_count": 15,
      "outputs": []
    },
    {
      "cell_type": "code",
      "source": [
        "from typing import Self\n",
        "class Student:\n",
        "  def __init__(self,name:str, age:int) -> None: #Constractor\n",
        "    self.name = name\n",
        "    self.age = age\n",
        "  def currentAge(self,year:int)->int:\n",
        "    return (2025-year)\n",
        "  def __str__(self) -> str: #dunder metho\n",
        "    return f'{self.name} is {self.age}  years old'\n",
        "  def __add__(self, anoterStudent: Self) -> str: #dunder metho\n",
        "    return f'{self.name} is {self.age}  years old and Another one is {anoterStudent.age} '\n",
        "atul:Student = Student('Atul',20)\n",
        "dj:Student = Student('DJ',20)\n",
        "print(atul)\n",
        "print(atul + dj)\n",
        "print(atul.name, atul.age)\n",
        "print(atul.currentAge(1993))"
      ],
      "metadata": {
        "colab": {
          "base_uri": "https://localhost:8080/"
        },
        "id": "XwGcWXCCsJlU",
        "outputId": "0d4b811b-3759-40dd-e795-ca9cfbce5fa2"
      },
      "execution_count": 27,
      "outputs": [
        {
          "output_type": "stream",
          "name": "stdout",
          "text": [
            "Atul is 20  years old\n",
            "Atul is 20  years old and Another one is 20 \n",
            "Atul 20\n",
            "32\n"
          ]
        }
      ]
    }
  ]
}