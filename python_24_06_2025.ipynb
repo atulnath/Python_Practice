{
  "nbformat": 4,
  "nbformat_minor": 0,
  "metadata": {
    "colab": {
      "provenance": [],
      "authorship_tag": "ABX9TyPwEJOXHUHzJAlnu/vnwGm2",
      "include_colab_link": true
    },
    "kernelspec": {
      "name": "python3",
      "display_name": "Python 3"
    },
    "language_info": {
      "name": "python"
    }
  },
  "cells": [
    {
      "cell_type": "markdown",
      "metadata": {
        "id": "view-in-github",
        "colab_type": "text"
      },
      "source": [
        "<a href=\"https://colab.research.google.com/github/atulnath/Python_Practice/blob/main/python_24_06_2025.ipynb\" target=\"_parent\"><img src=\"https://colab.research.google.com/assets/colab-badge.svg\" alt=\"Open In Colab\"/></a>"
      ]
    },
    {
      "cell_type": "code",
      "execution_count": 1,
      "metadata": {
        "colab": {
          "base_uri": "https://localhost:8080/"
        },
        "id": "Sk7jVl8ZWISn",
        "outputId": "70d4f9e7-4f43-4b07-9e9a-fe0384b6081d"
      },
      "outputs": [
        {
          "output_type": "execute_result",
          "data": {
            "text/plain": [
              "[2, 4, 5, 6]"
            ]
          },
          "metadata": {},
          "execution_count": 1
        }
      ],
      "source": [
        "# List is mutable\n",
        "\n",
        "\n",
        "list_ = [2,4,5]\n",
        "\n",
        "list_.append(6)\n",
        "\n",
        "list_"
      ]
    },
    {
      "cell_type": "code",
      "source": [
        "#  tuple is immutable\n",
        "\n",
        "tuple_ = (2,4,5)\n",
        "\n",
        "tuple_"
      ],
      "metadata": {
        "colab": {
          "base_uri": "https://localhost:8080/"
        },
        "id": "SzsIoyZLWb88",
        "outputId": "049bb5fd-879f-4554-b9a9-fd0ad2607950"
      },
      "execution_count": 3,
      "outputs": [
        {
          "output_type": "execute_result",
          "data": {
            "text/plain": [
              "(2, 4, 5)"
            ]
          },
          "metadata": {},
          "execution_count": 3
        }
      ]
    },
    {
      "cell_type": "code",
      "source": [
        "# *args -> Non Keyword args\n",
        "\n",
        "# **kwargs -> Keywords args\n",
        "\n",
        "def args_vs_kwargs(*args, **kwargs):\n",
        "  print(args)\n",
        "  print(kwargs)\n",
        "\n",
        "args_vs_kwargs(2,3,4, name='Atul', Happy=True)"
      ],
      "metadata": {
        "colab": {
          "base_uri": "https://localhost:8080/"
        },
        "id": "b3s_rHg5WlZA",
        "outputId": "35c32229-b7b1-4298-9031-9f68cb0654ad"
      },
      "execution_count": 4,
      "outputs": [
        {
          "output_type": "stream",
          "name": "stdout",
          "text": [
            "(2, 3, 4)\n",
            "{'name': 'Atul', 'Happy': True}\n"
          ]
        }
      ]
    },
    {
      "cell_type": "code",
      "source": [
        "# Deorator used to modify or extend functionality of another function\n",
        "\n",
        "def decorator(func):\n",
        "  def wrapper():\n",
        "    print('Print before starting function')\n",
        "    func()\n",
        "    print('Print after starting function')\n",
        "  return wrapper\n",
        "\n",
        "def helloWorld():\n",
        "  print('Hello World')\n",
        "\n",
        "helloWorld()"
      ],
      "metadata": {
        "colab": {
          "base_uri": "https://localhost:8080/"
        },
        "id": "uu_8hwnbXlo3",
        "outputId": "b29f9907-209f-4241-a6f0-e4a4aa477c91"
      },
      "execution_count": 5,
      "outputs": [
        {
          "output_type": "stream",
          "name": "stdout",
          "text": [
            "Hello World\n"
          ]
        }
      ]
    },
    {
      "cell_type": "code",
      "source": [
        "@decorator\n",
        "def helloWorld():\n",
        "  print('Hello World')\n",
        "\n",
        "helloWorld()"
      ],
      "metadata": {
        "colab": {
          "base_uri": "https://localhost:8080/"
        },
        "id": "5rRmHWH7YW9S",
        "outputId": "39b29d7f-5432-4f44-8f8a-9293a84f0122"
      },
      "execution_count": 6,
      "outputs": [
        {
          "output_type": "stream",
          "name": "stdout",
          "text": [
            "Print before starting function\n",
            "Hello World\n",
            "Print after starting function\n"
          ]
        }
      ]
    },
    {
      "cell_type": "code",
      "source": [
        "# is palindrome\n",
        "\n",
        "def is_palindrome(s):\n",
        "  s = s.lower().replace(' ', '')\n",
        "  return s == s[::-1]\n",
        "\n",
        "is_palindrome('madam')"
      ],
      "metadata": {
        "colab": {
          "base_uri": "https://localhost:8080/"
        },
        "id": "hTsc_NbnZItf",
        "outputId": "92f22e57-7a8e-4cb5-c896-f51e23eef4dd"
      },
      "execution_count": 7,
      "outputs": [
        {
          "output_type": "execute_result",
          "data": {
            "text/plain": [
              "True"
            ]
          },
          "metadata": {},
          "execution_count": 7
        }
      ]
    },
    {
      "cell_type": "code",
      "source": [
        "#  finding the common elements in lists\n",
        "\n",
        "def find_common_elements(list1, list2):\n",
        "  return list(set(list1) & set(list2))\n",
        "list1 = [1, 2, 3, 4]\n",
        "list2 = [3, 4, 5, 6]"
      ],
      "metadata": {
        "id": "vt8Jb5e5ZUGv"
      },
      "execution_count": 8,
      "outputs": []
    },
    {
      "cell_type": "code",
      "source": [
        "find_common_elements(list1, list2)"
      ],
      "metadata": {
        "colab": {
          "base_uri": "https://localhost:8080/"
        },
        "id": "nooVYBz8aXrw",
        "outputId": "84626c29-932e-439f-84e3-9db16f278137"
      },
      "execution_count": 10,
      "outputs": [
        {
          "output_type": "execute_result",
          "data": {
            "text/plain": [
              "[3, 4]"
            ]
          },
          "metadata": {},
          "execution_count": 10
        }
      ]
    },
    {
      "cell_type": "code",
      "source": [
        "# marging two dictionary\n",
        "\n",
        "\n",
        "val1 = {'a': 'A', 'b': 'B'}\n",
        "val2 = {'c': 'C', 'd': 'D'}\n",
        "\n",
        "val1.update(val2)\n",
        "\n",
        "val1"
      ],
      "metadata": {
        "colab": {
          "base_uri": "https://localhost:8080/"
        },
        "id": "pcR6UBWuZXW_",
        "outputId": "ca7cc82b-6c79-4250-8bb6-0941d7d4ae29"
      },
      "execution_count": 11,
      "outputs": [
        {
          "output_type": "execute_result",
          "data": {
            "text/plain": [
              "{'a': 'A', 'b': 'B', 'c': 'C', 'd': 'D'}"
            ]
          },
          "metadata": {},
          "execution_count": 11
        }
      ]
    },
    {
      "cell_type": "code",
      "source": [
        "# using the operator\n",
        "\n",
        "val3 = {**val1, **val2}\n",
        "\n",
        "val3"
      ],
      "metadata": {
        "colab": {
          "base_uri": "https://localhost:8080/"
        },
        "id": "g-4rA3FKawRo",
        "outputId": "596c8ce6-bde9-4109-f17b-8ef7bf174948"
      },
      "execution_count": 12,
      "outputs": [
        {
          "output_type": "execute_result",
          "data": {
            "text/plain": [
              "{'a': 'A', 'b': 'B', 'c': 'C', 'd': 'D'}"
            ]
          },
          "metadata": {},
          "execution_count": 12
        }
      ]
    },
    {
      "cell_type": "code",
      "source": [
        "# counting the vowel\n",
        "\n",
        "vowels = 'aeiou'\n",
        "\n",
        "string = 'HelloAtul'\n",
        "\n",
        "count = sum(1 for char in string if char.lower() in vowels)\n",
        "\n",
        "count"
      ],
      "metadata": {
        "colab": {
          "base_uri": "https://localhost:8080/"
        },
        "id": "Fj7XevseZibK",
        "outputId": "04c7fa62-80cf-4462-e448-ecf0bb028105"
      },
      "execution_count": 13,
      "outputs": [
        {
          "output_type": "execute_result",
          "data": {
            "text/plain": [
              "4"
            ]
          },
          "metadata": {},
          "execution_count": 13
        }
      ]
    },
    {
      "cell_type": "code",
      "source": [
        "# 14"
      ],
      "metadata": {
        "id": "adaJCw8vZkvP"
      },
      "execution_count": null,
      "outputs": []
    },
    {
      "cell_type": "code",
      "source": [
        "# 19"
      ],
      "metadata": {
        "id": "iCWUI1S3Zr9O"
      },
      "execution_count": null,
      "outputs": []
    },
    {
      "cell_type": "code",
      "source": [
        "# 23"
      ],
      "metadata": {
        "id": "iHvi2I6YZwCH"
      },
      "execution_count": null,
      "outputs": []
    }
  ]
}