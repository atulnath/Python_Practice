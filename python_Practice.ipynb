{
  "nbformat": 4,
  "nbformat_minor": 0,
  "metadata": {
    "colab": {
      "provenance": [],
      "authorship_tag": "ABX9TyPxrqG+IvuWjvpHG7hsoKns",
      "include_colab_link": true
    },
    "kernelspec": {
      "name": "python3",
      "display_name": "Python 3"
    },
    "language_info": {
      "name": "python"
    }
  },
  "cells": [
    {
      "cell_type": "markdown",
      "metadata": {
        "id": "view-in-github",
        "colab_type": "text"
      },
      "source": [
        "<a href=\"https://colab.research.google.com/github/atulnath/Python_Practice/blob/main/python_Practice.ipynb\" target=\"_parent\"><img src=\"https://colab.research.google.com/assets/colab-badge.svg\" alt=\"Open In Colab\"/></a>"
      ]
    },
    {
      "cell_type": "code",
      "execution_count": 2,
      "metadata": {
        "colab": {
          "base_uri": "https://localhost:8080/"
        },
        "id": "oulZxEbo5Hbo",
        "outputId": "be98d895-e629-4b18-f2a8-e72b027b5c4c"
      },
      "outputs": [
        {
          "output_type": "execute_result",
          "data": {
            "text/plain": [
              "(inf, -inf)"
            ]
          },
          "metadata": {},
          "execution_count": 2
        }
      ],
      "source": [
        "max = float('inf')\n",
        "\n",
        "min = float('-inf')\n",
        "\n",
        "max, min"
      ]
    },
    {
      "cell_type": "code",
      "source": [
        "#Array\n",
        "\n",
        "sample_list = [x for x in range(5)]\n",
        "\n",
        "sample_list"
      ],
      "metadata": {
        "colab": {
          "base_uri": "https://localhost:8080/"
        },
        "id": "-V-qo__f6vT7",
        "outputId": "9f25dc72-094c-41e9-a378-8c44fffcddf2"
      },
      "execution_count": 3,
      "outputs": [
        {
          "output_type": "execute_result",
          "data": {
            "text/plain": [
              "[0, 1, 2, 3, 4]"
            ]
          },
          "metadata": {},
          "execution_count": 3
        }
      ]
    },
    {
      "cell_type": "code",
      "source": [
        "sample_list.append(5)\n",
        "\n",
        "sample_list"
      ],
      "metadata": {
        "colab": {
          "base_uri": "https://localhost:8080/"
        },
        "id": "KhtInZoX7K_g",
        "outputId": "033e495b-5cf0-4d9b-ee9f-834014d19cbb"
      },
      "execution_count": 4,
      "outputs": [
        {
          "output_type": "execute_result",
          "data": {
            "text/plain": [
              "[0, 1, 2, 3, 4, 5]"
            ]
          },
          "metadata": {},
          "execution_count": 4
        }
      ]
    },
    {
      "cell_type": "code",
      "source": [
        "sample_list.pop()\n",
        "\n",
        "sample_list"
      ],
      "metadata": {
        "colab": {
          "base_uri": "https://localhost:8080/"
        },
        "id": "R9Vygjdl7P_x",
        "outputId": "fb80796c-c7bc-41b5-fbb4-c420146f169e"
      },
      "execution_count": 5,
      "outputs": [
        {
          "output_type": "execute_result",
          "data": {
            "text/plain": [
              "[0, 1, 2, 3, 4]"
            ]
          },
          "metadata": {},
          "execution_count": 5
        }
      ]
    },
    {
      "cell_type": "code",
      "source": [
        "sample_list.insert(4, 9)\n",
        "\n",
        "sample_list"
      ],
      "metadata": {
        "colab": {
          "base_uri": "https://localhost:8080/"
        },
        "id": "yIl082ZH7S94",
        "outputId": "6f5e18fd-6e7c-4eee-8e67-3d7d2ac82aa5"
      },
      "execution_count": 6,
      "outputs": [
        {
          "output_type": "execute_result",
          "data": {
            "text/plain": [
              "[0, 1, 2, 3, 9, 4]"
            ]
          },
          "metadata": {},
          "execution_count": 6
        }
      ]
    },
    {
      "cell_type": "code",
      "source": [
        "list_2 = [[1,2],[5],[7,8]]\n",
        "\n",
        "list_2.extend([[9,1]])\n",
        "\n",
        "#VS Append\n",
        "\n",
        "list_2.append([[1,9]])\n",
        "\n",
        "list_2"
      ],
      "metadata": {
        "colab": {
          "base_uri": "https://localhost:8080/"
        },
        "id": "kJ5vpm3u7a1o",
        "outputId": "2f478ec1-e557-4feb-8fa6-2682b75ed51f"
      },
      "execution_count": 11,
      "outputs": [
        {
          "output_type": "execute_result",
          "data": {
            "text/plain": [
              "[[1, 2], [5], [7, 8], [9, 1], [[1, 9]]]"
            ]
          },
          "metadata": {},
          "execution_count": 11
        }
      ]
    },
    {
      "cell_type": "code",
      "source": [
        "list_3 = [x for x in range(5,11,2)]\n",
        "print(list_3)\n",
        "list_3.reverse()\n",
        "list_3"
      ],
      "metadata": {
        "colab": {
          "base_uri": "https://localhost:8080/"
        },
        "id": "lE7fX5dT8Fgi",
        "outputId": "d7cd71c0-fe21-4e32-a715-0b9b8aed9a0c"
      },
      "execution_count": 16,
      "outputs": [
        {
          "output_type": "stream",
          "name": "stdout",
          "text": [
            "[5, 7, 9]\n"
          ]
        },
        {
          "output_type": "execute_result",
          "data": {
            "text/plain": [
              "[9, 7, 5]"
            ]
          },
          "metadata": {},
          "execution_count": 16
        }
      ]
    },
    {
      "cell_type": "code",
      "source": [
        "#Creating a 2D list\n",
        "\n",
        "arr_2D = [[0]*2 for x in range(2)]\n",
        "\n",
        "arr_2D"
      ],
      "metadata": {
        "colab": {
          "base_uri": "https://localhost:8080/"
        },
        "id": "pYXbzKNh8o8J",
        "outputId": "5beb0208-3353-4451-d19f-cc2884edeae6"
      },
      "execution_count": 17,
      "outputs": [
        {
          "output_type": "execute_result",
          "data": {
            "text/plain": [
              "[[0, 0], [0, 0]]"
            ]
          },
          "metadata": {},
          "execution_count": 17
        }
      ]
    },
    {
      "cell_type": "code",
      "source": [
        "#Lets Sort string with lamda function\n",
        "\n",
        "string_list=['AB','YZDF','CAD','MMMZ','NU','B','KJLDF']\n",
        "\n",
        "string_list.sort(key=lambda x:len(x))\n",
        "print(''.join(string_list))\n",
        "string_list"
      ],
      "metadata": {
        "colab": {
          "base_uri": "https://localhost:8080/"
        },
        "id": "oP9WJjJK823Q",
        "outputId": "0bf23143-6531-4923-8d95-8ca8ea0fa98a"
      },
      "execution_count": 19,
      "outputs": [
        {
          "output_type": "stream",
          "name": "stdout",
          "text": [
            "BABNUCADYZDFMMMZKJLDF\n"
          ]
        },
        {
          "output_type": "execute_result",
          "data": {
            "text/plain": [
              "['B', 'AB', 'NU', 'CAD', 'YZDF', 'MMMZ', 'KJLDF']"
            ]
          },
          "metadata": {},
          "execution_count": 19
        }
      ]
    },
    {
      "cell_type": "code",
      "source": [
        "#ASCII Values\n",
        "\n",
        "print(ord('A'))\n",
        "print(chr(65))"
      ],
      "metadata": {
        "colab": {
          "base_uri": "https://localhost:8080/"
        },
        "id": "wn-uGqOr9ojS",
        "outputId": "e55b57c0-889f-4373-bcc0-4e42e3bd4e65"
      },
      "execution_count": 22,
      "outputs": [
        {
          "output_type": "stream",
          "name": "stdout",
          "text": [
            "65\n",
            "A\n"
          ]
        }
      ]
    },
    {
      "cell_type": "code",
      "source": [
        "from collections import deque\n",
        "q= deque()\n",
        "\n",
        "q.appendleft(5)\n",
        "q.appendleft(6)\n",
        "q.appendleft(7)\n",
        "q.appendleft(8)\n",
        "q.appendleft(9)\n",
        "q"
      ],
      "metadata": {
        "colab": {
          "base_uri": "https://localhost:8080/"
        },
        "id": "HzPaJ0fv-Fwj",
        "outputId": "91ab9019-c584-41cf-ea0d-f153895486ce"
      },
      "execution_count": 24,
      "outputs": [
        {
          "output_type": "execute_result",
          "data": {
            "text/plain": [
              "deque([9, 8, 7, 6, 5])"
            ]
          },
          "metadata": {},
          "execution_count": 24
        }
      ]
    },
    {
      "cell_type": "code",
      "source": [
        "print(q.popleft()) # Pop will remove from left\n",
        "q"
      ],
      "metadata": {
        "colab": {
          "base_uri": "https://localhost:8080/"
        },
        "id": "Qgk3hab4-SfS",
        "outputId": "cdca9f49-4ffd-47fb-84c3-ef4bf20dad1b"
      },
      "execution_count": 26,
      "outputs": [
        {
          "output_type": "stream",
          "name": "stdout",
          "text": [
            "8\n"
          ]
        },
        {
          "output_type": "execute_result",
          "data": {
            "text/plain": [
              "deque([7, 6, 5])"
            ]
          },
          "metadata": {},
          "execution_count": 26
        }
      ]
    },
    {
      "cell_type": "code",
      "source": [
        "my_set= set()\n",
        "\n",
        "my_set.add(3)\n",
        "my_set.add(4)\n",
        "my_set.add(5)\n",
        "my_set.add(3)\n",
        "my_set.add(4)\n",
        "my_set"
      ],
      "metadata": {
        "colab": {
          "base_uri": "https://localhost:8080/"
        },
        "id": "-6jtcnxC-hWc",
        "outputId": "d97e2e02-d851-4e7a-b0fe-a5423b959a81"
      },
      "execution_count": 27,
      "outputs": [
        {
          "output_type": "execute_result",
          "data": {
            "text/plain": [
              "{3, 4, 5}"
            ]
          },
          "metadata": {},
          "execution_count": 27
        }
      ]
    },
    {
      "cell_type": "code",
      "source": [
        "my_set.remove(3)\n",
        "my_set"
      ],
      "metadata": {
        "colab": {
          "base_uri": "https://localhost:8080/"
        },
        "id": "zztOoxne-wmw",
        "outputId": "2d1fef47-c2ba-42e8-969f-de6e2cc029c0"
      },
      "execution_count": 28,
      "outputs": [
        {
          "output_type": "execute_result",
          "data": {
            "text/plain": [
              "{4, 5}"
            ]
          },
          "metadata": {},
          "execution_count": 28
        }
      ]
    },
    {
      "cell_type": "code",
      "source": [
        "5 in my_set"
      ],
      "metadata": {
        "colab": {
          "base_uri": "https://localhost:8080/"
        },
        "id": "2o4y-6NY-1rx",
        "outputId": "ca3f8ad2-be42-44b4-eeda-e10e472e9955"
      },
      "execution_count": 29,
      "outputs": [
        {
          "output_type": "execute_result",
          "data": {
            "text/plain": [
              "True"
            ]
          },
          "metadata": {},
          "execution_count": 29
        }
      ]
    },
    {
      "cell_type": "code",
      "source": [
        "len(my_set)"
      ],
      "metadata": {
        "colab": {
          "base_uri": "https://localhost:8080/"
        },
        "id": "PWDET-n3-4gA",
        "outputId": "785c18a6-a443-424e-d10f-e891e435dc3b"
      },
      "execution_count": 30,
      "outputs": [
        {
          "output_type": "execute_result",
          "data": {
            "text/plain": [
              "2"
            ]
          },
          "metadata": {},
          "execution_count": 30
        }
      ]
    }
  ]
}