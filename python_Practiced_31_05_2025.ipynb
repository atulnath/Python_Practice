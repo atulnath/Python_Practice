{
  "nbformat": 4,
  "nbformat_minor": 0,
  "metadata": {
    "colab": {
      "provenance": [],
      "authorship_tag": "ABX9TyOvQpDnC9+VWfKpfmrj2QBW",
      "include_colab_link": true
    },
    "kernelspec": {
      "name": "python3",
      "display_name": "Python 3"
    },
    "language_info": {
      "name": "python"
    }
  },
  "cells": [
    {
      "cell_type": "markdown",
      "metadata": {
        "id": "view-in-github",
        "colab_type": "text"
      },
      "source": [
        "<a href=\"https://colab.research.google.com/github/atulnath/Python_Practice/blob/main/python_Practiced_31_05_2025.ipynb\" target=\"_parent\"><img src=\"https://colab.research.google.com/assets/colab-badge.svg\" alt=\"Open In Colab\"/></a>"
      ]
    },
    {
      "cell_type": "code",
      "execution_count": 1,
      "metadata": {
        "id": "es7Cxrbv-zes"
      },
      "outputs": [],
      "source": [
        "max = float(\"inf\")\n",
        "min=float(\"-inf\")"
      ]
    },
    {
      "cell_type": "code",
      "source": [
        "#for array\n",
        "nums= [1,3,5,7]\n",
        "\n",
        "nums.append(9)\n",
        "\n",
        "nums.pop()\n",
        "\n",
        "nums.insert(1,2)\n",
        "\n",
        "nums.extend([11,12])\n",
        "\n",
        "nums"
      ],
      "metadata": {
        "colab": {
          "base_uri": "https://localhost:8080/"
        },
        "id": "WM2MJj6k--ou",
        "outputId": "b1344b4f-9eb9-41f1-8d42-1a4f4396ba53"
      },
      "execution_count": 2,
      "outputs": [
        {
          "output_type": "execute_result",
          "data": {
            "text/plain": [
              "[1, 2, 3, 5, 7, 11, 12]"
            ]
          },
          "metadata": {},
          "execution_count": 2
        }
      ]
    },
    {
      "cell_type": "code",
      "source": [
        "nums.reverse()\n",
        "print(nums)"
      ],
      "metadata": {
        "colab": {
          "base_uri": "https://localhost:8080/"
        },
        "id": "Pra1TnQS_ao5",
        "outputId": "d9990acb-4c20-404a-a3ef-8bc28707cee7"
      },
      "execution_count": 4,
      "outputs": [
        {
          "output_type": "stream",
          "name": "stdout",
          "text": [
            "[1, 2, 3, 5, 7, 11, 12]\n"
          ]
        }
      ]
    },
    {
      "cell_type": "code",
      "source": [
        "list_of_string = ['JKA','MLFG','AB','IMG']\n",
        "\n",
        "list_of_string.sort(key=lambda x:len(x)) # Key\n",
        "\n",
        "list_of_string"
      ],
      "metadata": {
        "colab": {
          "base_uri": "https://localhost:8080/"
        },
        "id": "8XiHtLQh_goc",
        "outputId": "8e1cb0fc-4ae5-4801-c8b8-49441fb03dfd"
      },
      "execution_count": 7,
      "outputs": [
        {
          "output_type": "execute_result",
          "data": {
            "text/plain": [
              "['AB', 'JKA', 'IMG', 'MLFG']"
            ]
          },
          "metadata": {},
          "execution_count": 7
        }
      ]
    },
    {
      "cell_type": "code",
      "source": [
        "Arr=[[0]*4 for i in range(4)]\n",
        "Arr"
      ],
      "metadata": {
        "colab": {
          "base_uri": "https://localhost:8080/"
        },
        "id": "D-qiCnKMAU_G",
        "outputId": "ef598466-7bbb-4507-9b30-c6acb7a4e890"
      },
      "execution_count": 8,
      "outputs": [
        {
          "output_type": "execute_result",
          "data": {
            "text/plain": [
              "[[0, 0, 0, 0], [0, 0, 0, 0], [0, 0, 0, 0], [0, 0, 0, 0]]"
            ]
          },
          "metadata": {},
          "execution_count": 8
        }
      ]
    },
    {
      "cell_type": "code",
      "source": [
        "val = ord('A')\n",
        "val"
      ],
      "metadata": {
        "colab": {
          "base_uri": "https://localhost:8080/"
        },
        "id": "Pck7oLKzCAmw",
        "outputId": "5be2849d-202c-4394-8f36-3ba2fa8a510c"
      },
      "execution_count": 13,
      "outputs": [
        {
          "output_type": "execute_result",
          "data": {
            "text/plain": [
              "65"
            ]
          },
          "metadata": {},
          "execution_count": 13
        }
      ]
    },
    {
      "cell_type": "code",
      "source": [
        "list_of_string = ['ab','bc','cd']\n",
        "''.join(list_of_string)"
      ],
      "metadata": {
        "colab": {
          "base_uri": "https://localhost:8080/",
          "height": 35
        },
        "id": "c5CcCex4CPBU",
        "outputId": "323c9383-e395-4544-a106-b5706fe2e76e"
      },
      "execution_count": 14,
      "outputs": [
        {
          "output_type": "execute_result",
          "data": {
            "text/plain": [
              "'abbccd'"
            ],
            "application/vnd.google.colaboratory.intrinsic+json": {
              "type": "string"
            }
          },
          "metadata": {},
          "execution_count": 14
        }
      ]
    },
    {
      "cell_type": "markdown",
      "source": [
        "#Queue"
      ],
      "metadata": {
        "id": "YMdw48tYCdIe"
      }
    },
    {
      "cell_type": "code",
      "source": [
        "from collections import deque\n",
        "q = deque()\n",
        "\n",
        "q.append(5)\n",
        "q.append(6)\n",
        "q.append(8)\n",
        "q.appendleft(4)\n",
        "q"
      ],
      "metadata": {
        "colab": {
          "base_uri": "https://localhost:8080/"
        },
        "id": "KedZ2lkKChGN",
        "outputId": "855f6745-b51f-4e51-a27c-a77586e41cac"
      },
      "execution_count": 15,
      "outputs": [
        {
          "output_type": "execute_result",
          "data": {
            "text/plain": [
              "deque([4, 5, 6, 8])"
            ]
          },
          "metadata": {},
          "execution_count": 15
        }
      ]
    },
    {
      "cell_type": "code",
      "source": [
        "q.pop()\n",
        "q.popleft()\n",
        "\n",
        "q"
      ],
      "metadata": {
        "colab": {
          "base_uri": "https://localhost:8080/"
        },
        "id": "dIXwogOkCuL9",
        "outputId": "49592089-26e6-450d-c612-1a9bad7623a8"
      },
      "execution_count": 16,
      "outputs": [
        {
          "output_type": "execute_result",
          "data": {
            "text/plain": [
              "deque([5, 6])"
            ]
          },
          "metadata": {},
          "execution_count": 16
        }
      ]
    },
    {
      "cell_type": "markdown",
      "source": [
        "#Set"
      ],
      "metadata": {
        "id": "LcqPGw2EC5j8"
      }
    },
    {
      "cell_type": "code",
      "source": [
        "s=set()\n",
        "#Adding elements is complexity of\n",
        "s.add(4)\n",
        "s.add(5)\n",
        "s.add(6)\n",
        "s.remove(5)\n",
        "\n",
        "s"
      ],
      "metadata": {
        "colab": {
          "base_uri": "https://localhost:8080/"
        },
        "id": "qUqQjjlBDCT9",
        "outputId": "9f301677-6a4f-49fb-f4dd-0282d31b64ab"
      },
      "execution_count": 17,
      "outputs": [
        {
          "output_type": "execute_result",
          "data": {
            "text/plain": [
              "{4, 6}"
            ]
          },
          "metadata": {},
          "execution_count": 17
        }
      ]
    },
    {
      "cell_type": "code",
      "source": [
        "print(5 in s)\n",
        "print(len(s))"
      ],
      "metadata": {
        "colab": {
          "base_uri": "https://localhost:8080/"
        },
        "id": "P4DMCnBiD3x1",
        "outputId": "0ef425b1-0d66-4335-efc2-1af3131020b0"
      },
      "execution_count": 18,
      "outputs": [
        {
          "output_type": "stream",
          "name": "stdout",
          "text": [
            "False\n",
            "2\n"
          ]
        }
      ]
    },
    {
      "cell_type": "code",
      "source": [
        "new_set={4,5,6}\n",
        "\n",
        "new_set"
      ],
      "metadata": {
        "colab": {
          "base_uri": "https://localhost:8080/"
        },
        "id": "tdf7wqF3EJ58",
        "outputId": "9697a871-fbdb-4de8-b447-41543b9292dc"
      },
      "execution_count": 19,
      "outputs": [
        {
          "output_type": "execute_result",
          "data": {
            "text/plain": [
              "{4, 5, 6}"
            ]
          },
          "metadata": {},
          "execution_count": 19
        }
      ]
    },
    {
      "cell_type": "code",
      "source": [
        "my_map = {'A':1,'B':2,'C':3}\n",
        "\n",
        "print(my_map['B'])"
      ],
      "metadata": {
        "colab": {
          "base_uri": "https://localhost:8080/"
        },
        "id": "mVTHbbRBER6M",
        "outputId": "816ff5ad-7154-46f0-e09a-d121f945fd10"
      },
      "execution_count": 20,
      "outputs": [
        {
          "output_type": "stream",
          "name": "stdout",
          "text": [
            "2\n"
          ]
        }
      ]
    },
    {
      "cell_type": "code",
      "source": [
        "#removing elements in dictionary\n",
        "del my_map['B']\n",
        "\n",
        "my_map"
      ],
      "metadata": {
        "colab": {
          "base_uri": "https://localhost:8080/"
        },
        "id": "lbE8XgP0Ef20",
        "outputId": "8653aaa2-6597-43a0-e174-07b15b710bae"
      },
      "execution_count": 21,
      "outputs": [
        {
          "output_type": "execute_result",
          "data": {
            "text/plain": [
              "{'A': 1, 'C': 3}"
            ]
          },
          "metadata": {},
          "execution_count": 21
        }
      ]
    },
    {
      "cell_type": "code",
      "source": [
        "my_map.pop('C')\n",
        "\n",
        "my_map"
      ],
      "metadata": {
        "colab": {
          "base_uri": "https://localhost:8080/"
        },
        "id": "VBAcSQ78EqzM",
        "outputId": "c28cfc4b-f6fd-4536-fa8d-ef816a749ed3"
      },
      "execution_count": 22,
      "outputs": [
        {
          "output_type": "execute_result",
          "data": {
            "text/plain": [
              "{'A': 1}"
            ]
          },
          "metadata": {},
          "execution_count": 22
        }
      ]
    },
    {
      "cell_type": "code",
      "source": [
        "my_map['M'] = 10\n",
        "my_map['N'] = 12\n",
        "\n",
        "my_map['O'] = 16\n",
        "my_map['X'] = 17\n",
        "my_map['Y'] = 18\n",
        "\n",
        "for key in my_map:\n",
        "    print(key,my_map[key])\n"
      ],
      "metadata": {
        "colab": {
          "base_uri": "https://localhost:8080/"
        },
        "id": "rtdvs8LqEynE",
        "outputId": "0a3a6f7e-7217-4776-81e8-f57faac3208f"
      },
      "execution_count": 23,
      "outputs": [
        {
          "output_type": "stream",
          "name": "stdout",
          "text": [
            "A 1\n",
            "M 10\n",
            "N 12\n",
            "O 16\n",
            "X 17\n",
            "Y 18\n"
          ]
        }
      ]
    },
    {
      "cell_type": "code",
      "source": [
        "# lets print only values\n",
        "for val in my_map.values():\n",
        "    print(val)\n",
        "# lets print both\n",
        "for key,val in my_map.items():\n",
        "    print(key,val)\n"
      ],
      "metadata": {
        "colab": {
          "base_uri": "https://localhost:8080/"
        },
        "id": "XX4adPRgFJNM",
        "outputId": "c700f830-0d61-4eb9-9ac6-f29062106811"
      },
      "execution_count": 24,
      "outputs": [
        {
          "output_type": "stream",
          "name": "stdout",
          "text": [
            "1\n",
            "10\n",
            "12\n",
            "16\n",
            "17\n",
            "18\n",
            "A 1\n",
            "M 10\n",
            "N 12\n",
            "O 16\n",
            "X 17\n",
            "Y 18\n"
          ]
        }
      ]
    },
    {
      "cell_type": "code",
      "source": [
        "import heapq\n",
        "minHeap = []\n",
        "\n",
        "heapq.heappush(minHeap, 20)\n",
        "heapq.heappush(minHeap,16)\n",
        "heapq.heappush(minHeap, 7)\n",
        "heapq.heappush(minHeap, 8)\n",
        "\n",
        "while len(minHeap):\n",
        "  print(heapq.heappop(minHeap))\n",
        "\n",
        "maxHeap = []\n",
        "\n",
        "heapq.heappush(maxHeap, -20)\n",
        "heapq.heappush(maxHeap, -16)\n",
        "heapq.heappush(maxHeap, -7)\n",
        "heapq.heappush(maxHeap, -8)\n",
        "\n",
        "while len(maxHeap):\n",
        "  print(-1 * heapq.heappop(maxHeap))\n",
        "\n",
        "list_x = [10,4,1,31,34]\n",
        "\n",
        "heapq.heapify(list_x)\n",
        "\n",
        "while len(list_x):\n",
        "  print(heapq.heappop(list_x))"
      ],
      "metadata": {
        "colab": {
          "base_uri": "https://localhost:8080/"
        },
        "id": "m4jJpcaHF8pW",
        "outputId": "7c0c82ea-6bbd-4006-c980-de3b51a0182b"
      },
      "execution_count": 28,
      "outputs": [
        {
          "output_type": "stream",
          "name": "stdout",
          "text": [
            "7\n",
            "8\n",
            "16\n",
            "20\n",
            "20\n",
            "16\n",
            "8\n",
            "7\n",
            "1\n",
            "4\n",
            "10\n",
            "31\n",
            "34\n"
          ]
        }
      ]
    }
  ]
}