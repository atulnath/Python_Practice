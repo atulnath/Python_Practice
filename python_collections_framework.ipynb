{
  "nbformat": 4,
  "nbformat_minor": 0,
  "metadata": {
    "colab": {
      "provenance": [],
      "authorship_tag": "ABX9TyNWXQyXUfsBcLt72swTKyqT",
      "include_colab_link": true
    },
    "kernelspec": {
      "name": "python3",
      "display_name": "Python 3"
    },
    "language_info": {
      "name": "python"
    }
  },
  "cells": [
    {
      "cell_type": "markdown",
      "metadata": {
        "id": "view-in-github",
        "colab_type": "text"
      },
      "source": [
        "<a href=\"https://colab.research.google.com/github/atulnath/Python_Practice/blob/main/python_collections_framework.ipynb\" target=\"_parent\"><img src=\"https://colab.research.google.com/assets/colab-badge.svg\" alt=\"Open In Colab\"/></a>"
      ]
    },
    {
      "cell_type": "code",
      "source": [
        "# Ordered Dict, No default value for a key\n",
        "from collections import OrderedDict\n",
        "\n",
        "d = OrderedDict()\n",
        "\n",
        "d['2nd'] = 2\n",
        "d['1st'] = 1\n",
        "d['3rd'] = 3\n",
        "\n",
        "for key, val in d.items():\n",
        "  print(key,\"->\",val)"
      ],
      "metadata": {
        "colab": {
          "base_uri": "https://localhost:8080/"
        },
        "id": "FC79yDjL4yRT",
        "outputId": "5cb96b34-017a-4db7-adf1-41f894b334b0"
      },
      "execution_count": 20,
      "outputs": [
        {
          "output_type": "stream",
          "name": "stdout",
          "text": [
            "2nd -> 2\n",
            "1st -> 1\n",
            "3rd -> 3\n"
          ]
        }
      ]
    },
    {
      "cell_type": "code",
      "source": [
        "#Counter\n",
        "from collections import Counter\n",
        "\n",
        "c = Counter('abcabbccd')\n",
        "print(c)\n",
        "\n",
        "for key, val in c.items():\n",
        "  print(key,\"->\",val)\n",
        "c['x']"
      ],
      "metadata": {
        "colab": {
          "base_uri": "https://localhost:8080/"
        },
        "id": "3k1F5Pgw5gK7",
        "outputId": "cb13623e-00dd-4154-8a5a-6d76bfd4be25"
      },
      "execution_count": 18,
      "outputs": [
        {
          "output_type": "stream",
          "name": "stdout",
          "text": [
            "Counter({'b': 3, 'c': 3, 'a': 2, 'd': 1})\n",
            "a -> 2\n",
            "b -> 3\n",
            "c -> 3\n",
            "d -> 1\n"
          ]
        },
        {
          "output_type": "execute_result",
          "data": {
            "text/plain": [
              "0"
            ]
          },
          "metadata": {},
          "execution_count": 18
        }
      ]
    },
    {
      "cell_type": "code",
      "source": [
        "#defaultdict\n",
        "\n",
        "from collections import defaultdict\n",
        "\n",
        "d = defaultdict(int) #defining what values will be stored in default\n",
        "\n",
        "d['x'] += 1\n",
        "print(d['x'], d['y'])\n",
        "d = defaultdict(list) #defining a list of default dictionary\n",
        "d['1'].append(1)\n",
        "d['2'].append(2)\n",
        "\n",
        "d"
      ],
      "metadata": {
        "colab": {
          "base_uri": "https://localhost:8080/"
        },
        "id": "8EQrASdK6Ynr",
        "outputId": "f30c9cd4-d255-4a9a-87eb-172514ab28bd"
      },
      "execution_count": 27,
      "outputs": [
        {
          "output_type": "stream",
          "name": "stdout",
          "text": [
            "1 0\n"
          ]
        },
        {
          "output_type": "execute_result",
          "data": {
            "text/plain": [
              "defaultdict(list, {'1': [1], '2': [2]})"
            ]
          },
          "metadata": {},
          "execution_count": 27
        }
      ]
    },
    {
      "cell_type": "code",
      "source": [
        "from typing import NamedTuple\n",
        "from collections import namedtuple\n",
        "\n",
        "Point = namedtuple('Point','x y z')\n",
        "p1= Point(1,2,3)\n",
        "p2=Point(4,5,6)\n",
        "if p2 > p1:\n",
        "  print(\"Point p2 is grater than Point p1\")\n",
        "p3= p2.x-p1.y\n",
        "p3\n",
        "\n",
        "class anotherP(NamedTuple):\n",
        "  x:int\n",
        "  y:int\n",
        "px= anotherP(4,5)\n",
        "py=anotherP(6,7)\n",
        "\n",
        "if px > py:\n",
        "  print('True')\n",
        "else:\n",
        "  print(False)"
      ],
      "metadata": {
        "colab": {
          "base_uri": "https://localhost:8080/"
        },
        "id": "fGRWsNM57y_E",
        "outputId": "20de5c54-915f-48db-83c4-c972960c47da"
      },
      "execution_count": 40,
      "outputs": [
        {
          "output_type": "stream",
          "name": "stdout",
          "text": [
            "Point p2 is grater than Point p1\n",
            "False\n"
          ]
        }
      ]
    },
    {
      "cell_type": "code",
      "source": [
        "from collections import deque\n",
        "\n",
        "q=deque()\n",
        "\n",
        "q.append(0)\n",
        "q.append(1)\n",
        "q.append(5)\n",
        "q.append(4)\n",
        "q.appendleft(-1)\n",
        "\n",
        "len(q)\n",
        "q.popleft()\n",
        "\n",
        "q[0], q[-1]"
      ],
      "metadata": {
        "colab": {
          "base_uri": "https://localhost:8080/"
        },
        "id": "XeOKrNwj94_f",
        "outputId": "d978c544-1b97-472e-9d2e-5680aa8a64d7"
      },
      "execution_count": 50,
      "outputs": [
        {
          "output_type": "execute_result",
          "data": {
            "text/plain": [
              "(0, 4)"
            ]
          },
          "metadata": {},
          "execution_count": 50
        }
      ]
    }
  ]
}