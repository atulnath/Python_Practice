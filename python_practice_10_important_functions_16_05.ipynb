{
  "nbformat": 4,
  "nbformat_minor": 0,
  "metadata": {
    "colab": {
      "provenance": [],
      "authorship_tag": "ABX9TyNYmwHYbkCRe+CsP92e0YC0",
      "include_colab_link": true
    },
    "kernelspec": {
      "name": "python3",
      "display_name": "Python 3"
    },
    "language_info": {
      "name": "python"
    }
  },
  "cells": [
    {
      "cell_type": "markdown",
      "metadata": {
        "id": "view-in-github",
        "colab_type": "text"
      },
      "source": [
        "<a href=\"https://colab.research.google.com/github/atulnath/Python_Practice/blob/main/python_practice_10_important_functions_16_05.ipynb\" target=\"_parent\"><img src=\"https://colab.research.google.com/assets/colab-badge.svg\" alt=\"Open In Colab\"/></a>"
      ]
    },
    {
      "cell_type": "code",
      "execution_count": 9,
      "metadata": {
        "colab": {
          "base_uri": "https://localhost:8080/"
        },
        "id": "TNwAdHFniJ5G",
        "outputId": "44ee73b2-8cba-4821-f285-51ba71400152"
      },
      "outputs": [
        {
          "output_type": "stream",
          "name": "stdout",
          "text": [
            "My name is |Atul|20|years old\n",
            "Hello|World\n",
            "[0, 1, 2, 3, 4, 5, 6, 7, 8, 9]\n",
            "[2, 3, 4, 5, 6, 7, 8, 9]\n",
            "[2, 4, 6, 8]\n",
            "['I', 'am', 'atul', 'chandra', 'Nath']\n"
          ]
        }
      ],
      "source": [
        "myName = 'Atul'\n",
        "iAm=20\n",
        "#Seperator is | instead of space\n",
        "print(\"My name is \",myName, iAm, 'years old', sep=\"|\")\n",
        "\n",
        "#print\n",
        "#System ads an new line(\\n) automatically\n",
        "#print\n",
        "\n",
        "print('Hello',end='|')\n",
        "print('World')\n",
        "\n",
        "\"\"\"\n",
        "Doc String\n",
        "\"\"\"\n",
        "\n",
        "val = range(10)\n",
        "print(list(val))\n",
        "val = range(2,10)\n",
        "print(list(val))\n",
        "val = range(2,10,2)\n",
        "print(list(val))"
      ]
    },
    {
      "cell_type": "code",
      "source": [
        "listOfStrings = ['I' , 'am', 'atul', 'chandra', 'Nath']\n",
        "print(listOfStrings)\n",
        "listOfLengths = map(len, listOfStrings) #return a iterator\n",
        "print(list(listOfLengths))"
      ],
      "metadata": {
        "colab": {
          "base_uri": "https://localhost:8080/"
        },
        "id": "b6k3STx6lX00",
        "outputId": "0784a0ca-f3d6-489b-8905-7f0a44eb2966"
      },
      "execution_count": 10,
      "outputs": [
        {
          "output_type": "stream",
          "name": "stdout",
          "text": [
            "['I', 'am', 'atul', 'chandra', 'Nath']\n",
            "[1, 2, 4, 7, 4]\n"
          ]
        }
      ]
    },
    {
      "cell_type": "code",
      "source": [
        "listOfStrings = ['Apple' , 'Orange', 'Cherry', 'Ice']\n",
        "print(listOfStrings)\n",
        "listOfLengths = map(lambda x: x +'s', listOfStrings) #return a iterator\n",
        "print(list(listOfLengths))"
      ],
      "metadata": {
        "colab": {
          "base_uri": "https://localhost:8080/"
        },
        "id": "1x4HfVnnl1eg",
        "outputId": "5b1c172a-2864-492d-834a-1f85ebeedd5f"
      },
      "execution_count": 12,
      "outputs": [
        {
          "output_type": "stream",
          "name": "stdout",
          "text": [
            "['Apple', 'Orange', 'Cherry', 'Ice']\n",
            "['Apples', 'Oranges', 'Cherrys', 'Ices']\n"
          ]
        }
      ]
    },
    {
      "cell_type": "code",
      "source": [
        "def giveLength(strings):\n",
        "  return len(strings)\n",
        "listOfLengths = map(giveLength, listOfStrings) #return a iterator\n",
        "print(list(listOfLengths))"
      ],
      "metadata": {
        "colab": {
          "base_uri": "https://localhost:8080/"
        },
        "id": "fbKTH_25mkiT",
        "outputId": "b776ca96-0057-4d66-80a2-8df5c02861ca"
      },
      "execution_count": 13,
      "outputs": [
        {
          "output_type": "stream",
          "name": "stdout",
          "text": [
            "[5, 6, 6, 3]\n"
          ]
        }
      ]
    },
    {
      "cell_type": "code",
      "source": [
        "#Filter Functions\n",
        "def giveLength(strings):\n",
        "  return len(strings) > 5\n",
        "listOfLengths = filter(giveLength, listOfStrings) #return a iterator\n",
        "print(list(listOfLengths))"
      ],
      "metadata": {
        "colab": {
          "base_uri": "https://localhost:8080/"
        },
        "id": "HanYMRDtnKmS",
        "outputId": "b4512874-988c-40c7-a0f5-fe72ae64bf4c"
      },
      "execution_count": 19,
      "outputs": [
        {
          "output_type": "stream",
          "name": "stdout",
          "text": [
            "['Orange', 'Cherry']\n"
          ]
        }
      ]
    },
    {
      "cell_type": "code",
      "source": [
        "listOfNums={1,3,4.3,7,8}\n",
        "print(sum(listOfNums))"
      ],
      "metadata": {
        "colab": {
          "base_uri": "https://localhost:8080/"
        },
        "id": "4OgDZmT8nvzx",
        "outputId": "7d5d143b-c945-4c9b-fc3b-9dee49f7081c"
      },
      "execution_count": 21,
      "outputs": [
        {
          "output_type": "stream",
          "name": "stdout",
          "text": [
            "23.3\n"
          ]
        }
      ]
    }
  ]
}