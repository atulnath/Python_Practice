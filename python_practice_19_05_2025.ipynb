{
  "nbformat": 4,
  "nbformat_minor": 0,
  "metadata": {
    "colab": {
      "provenance": [],
      "authorship_tag": "ABX9TyNnk8HynRWrewg/ICAxWy5I",
      "include_colab_link": true
    },
    "kernelspec": {
      "name": "python3",
      "display_name": "Python 3"
    },
    "language_info": {
      "name": "python"
    }
  },
  "cells": [
    {
      "cell_type": "markdown",
      "metadata": {
        "id": "view-in-github",
        "colab_type": "text"
      },
      "source": [
        "<a href=\"https://colab.research.google.com/github/atulnath/Python_Practice/blob/main/python_practice_19_05_2025.ipynb\" target=\"_parent\"><img src=\"https://colab.research.google.com/assets/colab-badge.svg\" alt=\"Open In Colab\"/></a>"
      ]
    },
    {
      "cell_type": "code",
      "execution_count": 2,
      "metadata": {
        "colab": {
          "base_uri": "https://localhost:8080/"
        },
        "id": "kOc7zTDmS6KF",
        "outputId": "9c6e72ee-7f44-47fd-8d9c-d2181a7d028b"
      },
      "outputs": [
        {
          "output_type": "stream",
          "name": "stdout",
          "text": [
            "inf -inf\n"
          ]
        }
      ],
      "source": [
        "#python maximum number\n",
        "maxi = float(\"inf\") #positive infinite\n",
        "mini = float(\"-inf\") #negetive infitnte\n",
        "\n",
        "print(maxi, mini)"
      ]
    },
    {
      "cell_type": "code",
      "source": [
        "#for array\n",
        "\n",
        "#append method\n",
        "\n",
        "nums=[1,2,4,5]\n",
        "nums.append(6)\n",
        "print(nums)\n",
        "\n",
        "nums.pop()\n",
        "print(nums)\n",
        "\n",
        "#insert loc, number\n",
        "nums.insert(3,3)\n",
        "print(nums)\n",
        "\n",
        "nums2=[7,9]\n",
        "nums.extend(nums2)\n",
        "print(nums)\n",
        "\n",
        "num=[]\n",
        "numx=[1]\n",
        "num.extend(numx)\n",
        "print(num)\n",
        "num.extend([2,3])\n",
        "print(num)\n",
        "num.extend([[4,5]])\n",
        "print(num)\n",
        "\n",
        "nums.reverse()\n",
        "print(nums)"
      ],
      "metadata": {
        "colab": {
          "base_uri": "https://localhost:8080/"
        },
        "id": "hdozBbnnTdq2",
        "outputId": "d2cff4eb-b3fd-4a12-8443-ec8ef1f2cd0b"
      },
      "execution_count": 12,
      "outputs": [
        {
          "output_type": "stream",
          "name": "stdout",
          "text": [
            "[1, 2, 4, 5, 6]\n",
            "[1, 2, 4, 5]\n",
            "[1, 2, 4, 3, 5]\n",
            "[1, 2, 4, 3, 5, 7, 9]\n",
            "[1]\n",
            "[1, 2, 3]\n",
            "[1, 2, 3, [4, 5]]\n",
            "[9, 7, 5, 3, 4, 2, 1]\n"
          ]
        }
      ]
    },
    {
      "cell_type": "code",
      "source": [
        "#for strings\n",
        "\n",
        "Arr=[\"CD4\",\"BC34\",\"EFdd\"]\n",
        "print(\"\".join(Arr))\n",
        "\n",
        "Arr.sort(key=lambda x:len(x))\n",
        "print(Arr)\n",
        "\n",
        "print(ord('A'))"
      ],
      "metadata": {
        "colab": {
          "base_uri": "https://localhost:8080/"
        },
        "id": "T2WAEl2HUjbY",
        "outputId": "2b662aa2-5419-47ee-aab2-d6306f6ddd4d"
      },
      "execution_count": 22,
      "outputs": [
        {
          "output_type": "stream",
          "name": "stdout",
          "text": [
            "CD4BC34EFdd\n",
            "['CD4', 'BC34', 'EFdd']\n",
            "65\n"
          ]
        }
      ]
    },
    {
      "cell_type": "code",
      "source": [
        "#2D array\n",
        "\n",
        "Arr=[[0]*3 for x in range(3)]\n",
        "Arr"
      ],
      "metadata": {
        "colab": {
          "base_uri": "https://localhost:8080/"
        },
        "id": "Ve2HvqNbVOnY",
        "outputId": "759572c0-0593-4c27-bdd4-c7863c0cdfc2"
      },
      "execution_count": 21,
      "outputs": [
        {
          "output_type": "execute_result",
          "data": {
            "text/plain": [
              "[[0, 0, 0], [0, 0, 0], [0, 0, 0]]"
            ]
          },
          "metadata": {},
          "execution_count": 21
        }
      ]
    },
    {
      "cell_type": "code",
      "source": [
        "# For deque we have following methods:\n",
        "#       append()\n",
        "#       appendLeft()\n",
        "#       pop()\n",
        "#       popLeft()\n",
        "\n",
        "from collections import deque\n",
        "\n",
        "q = deque()\n",
        "q.append(2)\n",
        "print(q)\n",
        "q.appendleft(1)\n",
        "print(q)\n",
        "q.pop()\n",
        "print(q)\n",
        "q.append(3)\n",
        "print(q)\n",
        "q.popleft()\n",
        "print(q)"
      ],
      "metadata": {
        "colab": {
          "base_uri": "https://localhost:8080/"
        },
        "id": "LIXeUlHsYt9l",
        "outputId": "55cbc7e5-c050-4d8e-c37f-556a5a7db512"
      },
      "execution_count": 27,
      "outputs": [
        {
          "output_type": "stream",
          "name": "stdout",
          "text": [
            "deque([2])\n",
            "deque([1, 2])\n",
            "deque([1])\n",
            "deque([1, 3])\n",
            "deque([3])\n"
          ]
        }
      ]
    },
    {
      "cell_type": "code",
      "source": [
        "# For hashset we have following methods:\n",
        "#     Add()\n",
        "#     Remove(val)\n",
        "#     val in set\n",
        "#     len(set)\n",
        "\n",
        "mySet=set()\n",
        "mySet.add(4)\n",
        "mySet.add(5)\n",
        "mySet.add(6)\n",
        "print(mySet)\n",
        "mySet.remove(5)\n",
        "print(mySet)\n",
        "print(len(mySet))\n",
        "print(4 in mySet)"
      ],
      "metadata": {
        "colab": {
          "base_uri": "https://localhost:8080/"
        },
        "id": "PLNMqgMNZe-u",
        "outputId": "37486113-5e49-47ca-a25e-fe0407641412"
      },
      "execution_count": 34,
      "outputs": [
        {
          "output_type": "stream",
          "name": "stdout",
          "text": [
            "{4, 5, 6}\n",
            "{4, 6}\n",
            "2\n",
            "True\n"
          ]
        }
      ]
    },
    {
      "cell_type": "code",
      "source": [
        "#For hashmap we have following methods\n",
        "#     m[key]=value\n",
        "#     pop(key)\n",
        "#     key in mao\n",
        "#     values() -> return all values\n",
        "#     items() -> return key, value pair\n",
        "\n",
        "myMap={}\n",
        "myMap['A'] = 1\n",
        "myMap['C'] = 2\n",
        "myMap['D'] = 1\n",
        "myMap['B'] = 2\n",
        "print(myMap)\n",
        "\n",
        "myMap.pop('C') # returns the value\n",
        "print(myMap)\n",
        "\n",
        "for key in myMap:\n",
        "  print(myMap[key])\n",
        "for val in myMap.values():\n",
        "  print(val)\n",
        "for key,val in myMap.items():\n",
        "  print(key,val)"
      ],
      "metadata": {
        "colab": {
          "base_uri": "https://localhost:8080/"
        },
        "id": "HbA13sAIaTGH",
        "outputId": "8835c673-4070-4705-931b-5a322b9f0e94"
      },
      "execution_count": 40,
      "outputs": [
        {
          "output_type": "stream",
          "name": "stdout",
          "text": [
            "{'A': 1, 'C': 2, 'D': 1, 'B': 2}\n",
            "{'A': 1, 'D': 1, 'B': 2}\n",
            "1\n",
            "1\n",
            "2\n",
            "1\n",
            "1\n",
            "2\n",
            "A 1\n",
            "D 1\n",
            "B 2\n"
          ]
        }
      ]
    },
    {
      "cell_type": "code",
      "source": [
        "# For heap i have following methods\n",
        "#       heappush(heap,val)\n",
        "#       heap=[]\n",
        "#       heappop(heap)\n",
        "#       while(len(heap)): pop\n",
        "#       heapify(list)\n",
        "import heapq\n",
        "\n",
        "#Min Heap\n",
        "myHeap=[]\n",
        "heapq.heappush(myHeap,4)\n",
        "heapq.heappush(myHeap,5)\n",
        "heapq.heappush(myHeap,6)\n",
        "heapq.heappop(myHeap)\n",
        "print(myHeap)\n",
        "while len(myHeap):\n",
        "  print(heapq.heappop(myHeap))\n",
        "arr=[2,3,4,5]\n",
        "heapq.heapify(arr)\n",
        "while arr:\n",
        "  print(heapq.heappop(arr))"
      ],
      "metadata": {
        "colab": {
          "base_uri": "https://localhost:8080/"
        },
        "id": "uOrS2Q-TbrzH",
        "outputId": "faa6d5e3-8d18-450f-cbfd-8fe062b365d9"
      },
      "execution_count": 56,
      "outputs": [
        {
          "output_type": "stream",
          "name": "stdout",
          "text": [
            "[5, 6]\n",
            "5\n",
            "6\n",
            "2\n",
            "3\n",
            "4\n",
            "5\n"
          ]
        }
      ]
    }
  ]
}