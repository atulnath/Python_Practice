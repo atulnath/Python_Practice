{
  "nbformat": 4,
  "nbformat_minor": 0,
  "metadata": {
    "colab": {
      "provenance": [],
      "authorship_tag": "ABX9TyNa8y9PLRihp+AjADHnAn7e",
      "include_colab_link": true
    },
    "kernelspec": {
      "name": "python3",
      "display_name": "Python 3"
    },
    "language_info": {
      "name": "python"
    }
  },
  "cells": [
    {
      "cell_type": "markdown",
      "metadata": {
        "id": "view-in-github",
        "colab_type": "text"
      },
      "source": [
        "<a href=\"https://colab.research.google.com/github/atulnath/Python_Practice/blob/main/python_practice_20_05_2025.ipynb\" target=\"_parent\"><img src=\"https://colab.research.google.com/assets/colab-badge.svg\" alt=\"Open In Colab\"/></a>"
      ]
    },
    {
      "cell_type": "code",
      "execution_count": 3,
      "metadata": {
        "colab": {
          "base_uri": "https://localhost:8080/"
        },
        "id": "4DJa4PJzaYjD",
        "outputId": "e06534d1-994a-437e-aa96-4ecabdee6966"
      },
      "outputs": [
        {
          "output_type": "stream",
          "name": "stdout",
          "text": [
            "{'A': 65, 'C': 67, 'D': 68, 'E': 69}\n",
            "dict_items([('A', 65), ('C', 67), ('D', 68), ('E', 69)])\n"
          ]
        }
      ],
      "source": [
        "#convert dictionary to list of tuple\n",
        "\n",
        "list_key_value_pair={'A':65, 'C':67,'D':68,'E':69}\n",
        "print(list_key_value_pair)\n",
        "print(list_key_value_pair.items())"
      ]
    },
    {
      "cell_type": "code",
      "source": [
        "#initialize the key, if value not exists, at last add 1\n",
        "list_key_value_pair['B'] = list_key_value_pair.get('B',65) + 1\n",
        "\n",
        "print(list_key_value_pair)"
      ],
      "metadata": {
        "colab": {
          "base_uri": "https://localhost:8080/"
        },
        "id": "4x2XNl-8b5jF",
        "outputId": "70f7888e-2690-452e-9463-24b4f1a8eab6"
      },
      "execution_count": 4,
      "outputs": [
        {
          "output_type": "stream",
          "name": "stdout",
          "text": [
            "{'A': 65, 'C': 67, 'D': 68, 'E': 69, 'B': 66}\n"
          ]
        }
      ]
    },
    {
      "cell_type": "code",
      "source": [
        "#Sorting of two dimension array\n",
        "\n",
        "list_a=[[2,1],[4,3]]\n",
        "print(list_a)\n",
        "list_a.sort( reverse=True)\n",
        "print(list_a)"
      ],
      "metadata": {
        "colab": {
          "base_uri": "https://localhost:8080/"
        },
        "id": "euD1tPjAcvg_",
        "outputId": "2131572f-5c70-4155-f0ab-e5e27df96ba8"
      },
      "execution_count": 18,
      "outputs": [
        {
          "output_type": "stream",
          "name": "stdout",
          "text": [
            "[[2, 1], [4, 3]]\n",
            "[[4, 3], [2, 1]]\n"
          ]
        }
      ]
    },
    {
      "cell_type": "code",
      "source": [
        "# check for list type\n",
        "if isinstance(list_a,list):\n",
        "  print(\"YES\")\n",
        "if type(list_a) is list:\n",
        "  print(\"YES\")"
      ],
      "metadata": {
        "colab": {
          "base_uri": "https://localhost:8080/"
        },
        "id": "6jlxyHeCdnD9",
        "outputId": "1a1dcf57-823e-40e4-816c-411e48b034d4"
      },
      "execution_count": 21,
      "outputs": [
        {
          "output_type": "stream",
          "name": "stdout",
          "text": [
            "YES\n",
            "YES\n"
          ]
        }
      ]
    },
    {
      "cell_type": "code",
      "source": [
        "#char to ascii value, ascii val to char\n",
        "num=ord('C')\n",
        "print(num)\n",
        "chars=chr(num)\n",
        "print(chars)"
      ],
      "metadata": {
        "colab": {
          "base_uri": "https://localhost:8080/"
        },
        "id": "XLcJI082eD-1",
        "outputId": "b0439eb3-385f-464c-9e42-b8c0b87e78f3"
      },
      "execution_count": 22,
      "outputs": [
        {
          "output_type": "stream",
          "name": "stdout",
          "text": [
            "67\n",
            "C\n"
          ]
        }
      ]
    },
    {
      "cell_type": "code",
      "source": [
        "#Limit to 2 decimal space\n",
        "num=34.23232\n",
        "print(round(num,2))"
      ],
      "metadata": {
        "colab": {
          "base_uri": "https://localhost:8080/"
        },
        "id": "eSEF_VUeeljU",
        "outputId": "acc30622-404b-407b-a236-86bf78b013a9"
      },
      "execution_count": 24,
      "outputs": [
        {
          "output_type": "stream",
          "name": "stdout",
          "text": [
            "34.23\n"
          ]
        }
      ]
    },
    {
      "cell_type": "code",
      "source": [
        "# Adding and removing both side\n",
        "\n",
        "from collections import deque\n",
        "\n",
        "sample_text=\"Hello World\"\n",
        "q=deque([sample_text])\n",
        "print(q)\n",
        "q.appendleft('A')\n",
        "print(q)\n",
        "q.popleft()\n",
        "print(q)\n",
        "q=deque(sample_text)\n",
        "print(q)\n",
        "q.appendleft('A')\n",
        "print(q)\n",
        "q.popleft()\n",
        "print(q)"
      ],
      "metadata": {
        "colab": {
          "base_uri": "https://localhost:8080/"
        },
        "id": "uOeR5t1Oe6eG",
        "outputId": "8e710bb0-5802-43b7-c277-3d69e62bc803"
      },
      "execution_count": 30,
      "outputs": [
        {
          "output_type": "stream",
          "name": "stdout",
          "text": [
            "deque(['Hello World'])\n",
            "deque(['A', 'Hello World'])\n",
            "deque(['Hello World'])\n",
            "deque(['H', 'e', 'l', 'l', 'o', ' ', 'W', 'o', 'r', 'l', 'd'])\n",
            "deque(['A', 'H', 'e', 'l', 'l', 'o', ' ', 'W', 'o', 'r', 'l', 'd'])\n",
            "deque(['H', 'e', 'l', 'l', 'o', ' ', 'W', 'o', 'r', 'l', 'd'])\n"
          ]
        }
      ]
    },
    {
      "cell_type": "code",
      "source": [
        "#insersection of two sets\n",
        "\n",
        "a={1,2,3}\n",
        "b={3,4,5}\n",
        "result=a.intersection(b)\n",
        "print(result)"
      ],
      "metadata": {
        "colab": {
          "base_uri": "https://localhost:8080/"
        },
        "id": "ndMQNjoBgRh1",
        "outputId": "a1f5ac78-648d-4a92-e255-8395ed1cce0f"
      },
      "execution_count": 33,
      "outputs": [
        {
          "output_type": "stream",
          "name": "stdout",
          "text": [
            "{3}\n"
          ]
        }
      ]
    }
  ]
}