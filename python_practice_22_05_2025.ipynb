{
  "nbformat": 4,
  "nbformat_minor": 0,
  "metadata": {
    "colab": {
      "provenance": [],
      "authorship_tag": "ABX9TyM+DB1l9drzxq+qjuUBdxQ5",
      "include_colab_link": true
    },
    "kernelspec": {
      "name": "python3",
      "display_name": "Python 3"
    },
    "language_info": {
      "name": "python"
    }
  },
  "cells": [
    {
      "cell_type": "markdown",
      "metadata": {
        "id": "view-in-github",
        "colab_type": "text"
      },
      "source": [
        "<a href=\"https://colab.research.google.com/github/atulnath/Python_Practice/blob/main/python_practice_22_05_2025.ipynb\" target=\"_parent\"><img src=\"https://colab.research.google.com/assets/colab-badge.svg\" alt=\"Open In Colab\"/></a>"
      ]
    },
    {
      "cell_type": "code",
      "execution_count": 5,
      "metadata": {
        "colab": {
          "base_uri": "https://localhost:8080/"
        },
        "id": "ChnRaBLwwS2E",
        "outputId": "828924b0-b6b6-41c2-f922-34eac81de836"
      },
      "outputs": [
        {
          "output_type": "stream",
          "name": "stdout",
          "text": [
            "<class 'int'>\n",
            "<class 'float'>\n",
            "<class 'str'>\n",
            "<class 'str'>\n",
            "<class 'bool'>\n"
          ]
        }
      ],
      "source": [
        "a, b, c, d, e = 1, 2.3, 'C', \"STR\", True\n",
        "\n",
        "print(type(a))\n",
        "print(type(b))\n",
        "print(type(c)) # str type\n",
        "print(type(d)) # str type\n",
        "print(type(e))"
      ]
    },
    {
      "cell_type": "code",
      "source": [
        "x,y=divmod(9,4) # 9/4=2, 9/4=1\n",
        "print(x,y)"
      ],
      "metadata": {
        "colab": {
          "base_uri": "https://localhost:8080/"
        },
        "id": "EznDyPRZxmqf",
        "outputId": "1d0db71e-7570-475a-f9b6-2c464fdc7ffd"
      },
      "execution_count": 10,
      "outputs": [
        {
          "output_type": "stream",
          "name": "stdout",
          "text": [
            "2 1\n"
          ]
        }
      ]
    },
    {
      "cell_type": "code",
      "source": [
        "print(list(range(3)))\n",
        "for i in enumerate(range(3)):print(i)"
      ],
      "metadata": {
        "colab": {
          "base_uri": "https://localhost:8080/"
        },
        "id": "JwcKHmep6dR9",
        "outputId": "6b6b6007-ea70-4030-b601-f81c5d2f5d4f"
      },
      "execution_count": 17,
      "outputs": [
        {
          "output_type": "stream",
          "name": "stdout",
          "text": [
            "[0, 1, 2]\n",
            "(0, 0)\n",
            "(1, 1)\n",
            "(2, 2)\n"
          ]
        }
      ]
    },
    {
      "cell_type": "code",
      "source": [
        "print(list(enumerate(['a','b','c'])))\n",
        "for i,v in reversed(list(enumerate(['a','b','c']))):\n",
        "  print(i,v)"
      ],
      "metadata": {
        "colab": {
          "base_uri": "https://localhost:8080/"
        },
        "id": "MOO_afcR7Nto",
        "outputId": "52a36ff7-1856-42ce-817b-b8923e809c73"
      },
      "execution_count": 31,
      "outputs": [
        {
          "output_type": "stream",
          "name": "stdout",
          "text": [
            "[(0, 'a'), (1, 'b'), (2, 'c')]\n",
            "2 c\n",
            "1 b\n",
            "0 a\n"
          ]
        }
      ]
    },
    {
      "cell_type": "code",
      "source": [
        "for i,v in enumerate([0,1,2]):print(i,v)"
      ],
      "metadata": {
        "colab": {
          "base_uri": "https://localhost:8080/"
        },
        "id": "VcFN6Ecb8s-P",
        "outputId": "7cdcdbf2-ce92-4a76-9526-7114bca88d03"
      },
      "execution_count": 35,
      "outputs": [
        {
          "output_type": "stream",
          "name": "stdout",
          "text": [
            "0 0\n",
            "1 1\n",
            "2 2\n"
          ]
        }
      ]
    },
    {
      "cell_type": "code",
      "source": [
        "for i,v in enumerate([0,4,2],start=10):print(i,v)"
      ],
      "metadata": {
        "colab": {
          "base_uri": "https://localhost:8080/"
        },
        "id": "jHYo_Yxl9HqP",
        "outputId": "4c1ad0a4-2d3c-4977-952d-88423fdfc1e0"
      },
      "execution_count": 37,
      "outputs": [
        {
          "output_type": "stream",
          "name": "stdout",
          "text": [
            "10 0\n",
            "11 4\n",
            "12 2\n"
          ]
        }
      ]
    },
    {
      "cell_type": "code",
      "source": [
        "t=(4,8,12)\n",
        "type(t)"
      ],
      "metadata": {
        "colab": {
          "base_uri": "https://localhost:8080/"
        },
        "id": "v_inV-fX9gX5",
        "outputId": "9c08d0ba-e5ad-4f30-aed3-20ccbe7cc4d7"
      },
      "execution_count": 38,
      "outputs": [
        {
          "output_type": "execute_result",
          "data": {
            "text/plain": [
              "tuple"
            ]
          },
          "metadata": {},
          "execution_count": 38
        }
      ]
    },
    {
      "cell_type": "code",
      "source": [
        "a,b,c=t\n",
        "print(a,b,c)\n",
        "\n",
        "x,_,_= t\n",
        "print(x)\n",
        "print(_) #last"
      ],
      "metadata": {
        "colab": {
          "base_uri": "https://localhost:8080/"
        },
        "id": "XTWJNtxo9mo3",
        "outputId": "29b0d9db-30e6-4c22-e1cc-078ffcec70fd"
      },
      "execution_count": 44,
      "outputs": [
        {
          "output_type": "stream",
          "name": "stdout",
          "text": [
            "4 8 12\n",
            "4\n",
            "12\n"
          ]
        }
      ]
    },
    {
      "cell_type": "code",
      "source": [
        "#Max , Min\n",
        "\n",
        "max_val= float(\"inf\")\n",
        "min_val=float(\"-inf\")\n",
        "max_val, min_val"
      ],
      "metadata": {
        "colab": {
          "base_uri": "https://localhost:8080/"
        },
        "id": "1K4qRjCm-T6_",
        "outputId": "d024f4fb-2b04-4522-ccbb-83d22f981520"
      },
      "execution_count": 49,
      "outputs": [
        {
          "output_type": "execute_result",
          "data": {
            "text/plain": [
              "(inf, -inf)"
            ]
          },
          "metadata": {},
          "execution_count": 49
        }
      ]
    },
    {
      "cell_type": "code",
      "source": [
        "#Max , Min\n",
        "import math\n",
        "max_val= math.inf\n",
        "min_val= -math.inf\n",
        "max_val, min_val"
      ],
      "metadata": {
        "colab": {
          "base_uri": "https://localhost:8080/"
        },
        "id": "jCfMtltr-ef_",
        "outputId": "0dcab841-85cd-4cae-d277-100d95196ccb"
      },
      "execution_count": 48,
      "outputs": [
        {
          "output_type": "execute_result",
          "data": {
            "text/plain": [
              "(inf, -inf)"
            ]
          },
          "metadata": {},
          "execution_count": 48
        }
      ]
    },
    {
      "cell_type": "markdown",
      "source": [
        "# Range"
      ],
      "metadata": {
        "id": "q7uIxBzm_V3P"
      }
    },
    {
      "cell_type": "code",
      "source": [
        "print(list(range(3)))\n",
        "list(range(1,10,2))"
      ],
      "metadata": {
        "colab": {
          "base_uri": "https://localhost:8080/"
        },
        "id": "xu84HHHu_ZDX",
        "outputId": "1dd29ba5-13ad-4807-f2ff-7c0bfd382335"
      },
      "execution_count": 52,
      "outputs": [
        {
          "output_type": "stream",
          "name": "stdout",
          "text": [
            "[0, 1, 2]\n"
          ]
        },
        {
          "output_type": "execute_result",
          "data": {
            "text/plain": [
              "[1, 3, 5, 7, 9]"
            ]
          },
          "metadata": {},
          "execution_count": 52
        }
      ]
    }
  ]
}