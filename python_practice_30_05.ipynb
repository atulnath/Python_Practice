{
  "nbformat": 4,
  "nbformat_minor": 0,
  "metadata": {
    "colab": {
      "provenance": [],
      "authorship_tag": "ABX9TyO/IaIaRHbbBzHB2rqnz+3c",
      "include_colab_link": true
    },
    "kernelspec": {
      "name": "python3",
      "display_name": "Python 3"
    },
    "language_info": {
      "name": "python"
    }
  },
  "cells": [
    {
      "cell_type": "markdown",
      "metadata": {
        "id": "view-in-github",
        "colab_type": "text"
      },
      "source": [
        "<a href=\"https://colab.research.google.com/github/atulnath/Python_Practice/blob/main/python_practice_30_05.ipynb\" target=\"_parent\"><img src=\"https://colab.research.google.com/assets/colab-badge.svg\" alt=\"Open In Colab\"/></a>"
      ]
    },
    {
      "cell_type": "markdown",
      "source": [
        "#Tuples"
      ],
      "metadata": {
        "id": "SwsWaJjCnPw9"
      }
    },
    {
      "cell_type": "code",
      "source": [
        "tup1=(1,2,3)\n",
        "print(tup1)\n",
        "\n",
        "print(tup1[0], tup1[-1])\n",
        "\n",
        "#using tuple as map key\n",
        "\n",
        "myMap= {(1,2):3}\n",
        "\n",
        "print(myMap[(1,2)])\n",
        "\n",
        "#using tuple as set key\n",
        "\n",
        "mySet = set()\n",
        "mySet.add((1,2))\n",
        "\n",
        "print(mySet)\n",
        "\n",
        "print((1,2) in mySet)"
      ],
      "metadata": {
        "colab": {
          "base_uri": "https://localhost:8080/"
        },
        "id": "Xs7-une-niRf",
        "outputId": "e8557999-dd89-4b6b-9c6f-0e23517a84cc"
      },
      "execution_count": 9,
      "outputs": [
        {
          "output_type": "stream",
          "name": "stdout",
          "text": [
            "(1, 2, 3)\n",
            "1 3\n",
            "3\n",
            "{(1, 2)}\n",
            "True\n"
          ]
        }
      ]
    },
    {
      "cell_type": "markdown",
      "source": [
        "#Heaps"
      ],
      "metadata": {
        "id": "ZcgDbI1EqDYF"
      }
    },
    {
      "cell_type": "code",
      "source": [
        "import heapq\n",
        "\n",
        "myHeap=[]\n",
        "\n",
        "heapq.heappush(myHeap,9)\n",
        "heapq.heappush(myHeap,6)\n",
        "heapq.heappush(myHeap,7)\n",
        "print(\"MIN HEAP\")\n",
        "print(myHeap[0])\n",
        "print(\"TRAVERSE\")\n",
        "while len(myHeap):\n",
        "  print(heapq.heappop(myHeap))\n",
        "\n",
        "#Lets make a max heap\n",
        "heap2= []\n",
        "heapq.heappush(heap2,-9)\n",
        "heapq.heappush(heap2,-6)\n",
        "heapq.heappush(heap2,-7)\n",
        "print(\"MAX HEAP\")\n",
        "print(-heap2[0])\n",
        "print(\"TRAVERSE\")\n",
        "while len(heap2):\n",
        "  print(-heapq.heappop(heap2))"
      ],
      "metadata": {
        "colab": {
          "base_uri": "https://localhost:8080/"
        },
        "id": "qCmmUFoCqB__",
        "outputId": "3f4ddfff-c8db-427f-ca8d-908018dbc69a"
      },
      "execution_count": 18,
      "outputs": [
        {
          "output_type": "stream",
          "name": "stdout",
          "text": [
            "MIN HEAP\n",
            "6\n",
            "TRAVERSE\n",
            "6\n",
            "7\n",
            "9\n",
            "MAX HEAP\n",
            "9\n",
            "TRAVERSE\n",
            "9\n",
            "7\n",
            "6\n"
          ]
        }
      ]
    }
  ]
}