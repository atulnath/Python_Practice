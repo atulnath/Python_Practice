{
  "nbformat": 4,
  "nbformat_minor": 0,
  "metadata": {
    "colab": {
      "provenance": [],
      "authorship_tag": "ABX9TyMcERfkMoVxJNZLP1SopAF4",
      "include_colab_link": true
    },
    "kernelspec": {
      "name": "python3",
      "display_name": "Python 3"
    },
    "language_info": {
      "name": "python"
    }
  },
  "cells": [
    {
      "cell_type": "markdown",
      "metadata": {
        "id": "view-in-github",
        "colab_type": "text"
      },
      "source": [
        "<a href=\"https://colab.research.google.com/github/atulnath/Python_Practice/blob/main/python_practiced_20_06_2025.ipynb\" target=\"_parent\"><img src=\"https://colab.research.google.com/assets/colab-badge.svg\" alt=\"Open In Colab\"/></a>"
      ]
    },
    {
      "cell_type": "markdown",
      "source": [
        "## List"
      ],
      "metadata": {
        "id": "tFU-0iEdb8JY"
      }
    },
    {
      "cell_type": "code",
      "source": [
        "squares = [i ** 2 for i in range(5)] # [0, 1, 4, 9, 16]"
      ],
      "metadata": {
        "id": "eDCbB4Bfb_U3"
      },
      "execution_count": 1,
      "outputs": []
    },
    {
      "cell_type": "code",
      "source": [
        "print(squares)"
      ],
      "metadata": {
        "colab": {
          "base_uri": "https://localhost:8080/"
        },
        "id": "GeZb5uCHcPno",
        "outputId": "2da5a3b6-9192-49a0-cb49-ee97d897c432"
      },
      "execution_count": 2,
      "outputs": [
        {
          "output_type": "stream",
          "name": "stdout",
          "text": [
            "[0, 1, 4, 9, 16]\n"
          ]
        }
      ]
    },
    {
      "cell_type": "code",
      "source": [
        "nums = [2,5,6,7,8]\n",
        "\n",
        "evens = [i for i in nums if i%2== 0]\n",
        "\n",
        "evens"
      ],
      "metadata": {
        "colab": {
          "base_uri": "https://localhost:8080/"
        },
        "id": "GfOD-KtUcT2f",
        "outputId": "d84ef4c4-9176-413b-d89a-f063f9a58af1"
      },
      "execution_count": 4,
      "outputs": [
        {
          "output_type": "execute_result",
          "data": {
            "text/plain": [
              "[2, 6, 8]"
            ]
          },
          "metadata": {},
          "execution_count": 4
        }
      ]
    },
    {
      "cell_type": "code",
      "source": [
        "# Reverse nums\n",
        "\n",
        "nums[::-1]"
      ],
      "metadata": {
        "colab": {
          "base_uri": "https://localhost:8080/"
        },
        "id": "n9ZD1sqQcwAd",
        "outputId": "578d3579-b857-4517-cc61-c4a600e84d0c"
      },
      "execution_count": 5,
      "outputs": [
        {
          "output_type": "execute_result",
          "data": {
            "text/plain": [
              "[8, 7, 6, 5, 2]"
            ]
          },
          "metadata": {},
          "execution_count": 5
        }
      ]
    },
    {
      "cell_type": "code",
      "source": [
        "nums[1:3] # Slicing"
      ],
      "metadata": {
        "colab": {
          "base_uri": "https://localhost:8080/"
        },
        "id": "B9T5Rbp-c3nI",
        "outputId": "b1ba3a23-4599-45e2-e2e9-a1dc3dae6dec"
      },
      "execution_count": 6,
      "outputs": [
        {
          "output_type": "execute_result",
          "data": {
            "text/plain": [
              "[5, 6]"
            ]
          },
          "metadata": {},
          "execution_count": 6
        }
      ]
    },
    {
      "cell_type": "code",
      "source": [
        "nums[0], nums[1] = nums[1], nums[0]\n",
        "\n",
        "nums[0], nums[1]"
      ],
      "metadata": {
        "colab": {
          "base_uri": "https://localhost:8080/"
        },
        "id": "-1AJ6uPydAsY",
        "outputId": "5b6ab00a-bf1d-49b6-e436-6b7a1dbe6f41"
      },
      "execution_count": 7,
      "outputs": [
        {
          "output_type": "execute_result",
          "data": {
            "text/plain": [
              "(5, 2)"
            ]
          },
          "metadata": {},
          "execution_count": 7
        }
      ]
    },
    {
      "cell_type": "code",
      "source": [
        "# Extending nums\n",
        "\n",
        "nums.extend([10,11])\n",
        "\n",
        "nums"
      ],
      "metadata": {
        "colab": {
          "base_uri": "https://localhost:8080/"
        },
        "id": "I7cQ1WXudT8q",
        "outputId": "68f971ed-88ea-4c96-c899-6b409aa5452f"
      },
      "execution_count": 8,
      "outputs": [
        {
          "output_type": "execute_result",
          "data": {
            "text/plain": [
              "[5, 2, 6, 7, 8, 10, 11]"
            ]
          },
          "metadata": {},
          "execution_count": 8
        }
      ]
    },
    {
      "cell_type": "code",
      "source": [
        "new_nums = nums[:]"
      ],
      "metadata": {
        "id": "S9yU_oyKda6Y"
      },
      "execution_count": 9,
      "outputs": []
    },
    {
      "cell_type": "code",
      "source": [
        "new_nums"
      ],
      "metadata": {
        "colab": {
          "base_uri": "https://localhost:8080/"
        },
        "id": "BqB_W-Urdfi4",
        "outputId": "e0e04c9f-1855-4bce-ad65-c7fc7c99f710"
      },
      "execution_count": 10,
      "outputs": [
        {
          "output_type": "execute_result",
          "data": {
            "text/plain": [
              "[5, 2, 6, 7, 8, 10, 11]"
            ]
          },
          "metadata": {},
          "execution_count": 10
        }
      ]
    },
    {
      "cell_type": "code",
      "source": [
        "# Let consider a List [[1,2,3],[4,5],[6]]\n",
        "# This is a 2D list, lets flatten it, or make it 1D\n",
        "\n",
        "# Here [1,2,3], ,[4,5], [6] are sublists\n",
        "\n",
        "# for sublist in [[1,2,3],[4,5],[6]] -> This is Outer loop\n",
        "\n",
        "# for x in sublist -> This is Inner loop\n",
        "\n",
        "new_list = [x for sublist in [[1,2,3],[4,5],[6]] for x in sublist]\n",
        "\n",
        "new_list"
      ],
      "metadata": {
        "colab": {
          "base_uri": "https://localhost:8080/"
        },
        "id": "TjB_joIKdux9",
        "outputId": "194b073c-81e2-446d-a45b-36e669e6dec2"
      },
      "execution_count": 11,
      "outputs": [
        {
          "output_type": "execute_result",
          "data": {
            "text/plain": [
              "[1, 2, 3, 4, 5, 6]"
            ]
          },
          "metadata": {},
          "execution_count": 11
        }
      ]
    },
    {
      "cell_type": "code",
      "source": [
        "# [[[1,2],[4,5]],[[6,7],[8]]]\n",
        "# Lets make the comprehension to do flattening\n",
        "\n",
        "new_list_2d = [x for sublist in [[[1,2],[4,5]],[[6,7],[8]]] for x in sublist]\n",
        "\n",
        "new_list_2d"
      ],
      "metadata": {
        "colab": {
          "base_uri": "https://localhost:8080/"
        },
        "id": "sCL9QSMAfTMB",
        "outputId": "c5c41638-e247-4fd7-ac91-56ccac66d899"
      },
      "execution_count": 13,
      "outputs": [
        {
          "output_type": "execute_result",
          "data": {
            "text/plain": [
              "[[1, 2], [4, 5], [6, 7], [8]]"
            ]
          },
          "metadata": {},
          "execution_count": 13
        }
      ]
    },
    {
      "cell_type": "code",
      "source": [
        "new_list = [x for sublist in new_list_2d for x in sublist]\n",
        "new_list"
      ],
      "metadata": {
        "colab": {
          "base_uri": "https://localhost:8080/"
        },
        "id": "9gD7eHiugG4K",
        "outputId": "ab110feb-02c6-486e-cc72-351f09193f81"
      },
      "execution_count": 14,
      "outputs": [
        {
          "output_type": "execute_result",
          "data": {
            "text/plain": [
              "[1, 2, 4, 5, 6, 7, 8]"
            ]
          },
          "metadata": {},
          "execution_count": 14
        }
      ]
    },
    {
      "cell_type": "code",
      "source": [
        "new_list = [z for sublist1 in [[[1,2],[4,5]],[[6,7],[8]]] for sublist2 in sublist1 for z in sublist2]"
      ],
      "metadata": {
        "id": "AbPh27EXgoOv"
      },
      "execution_count": 15,
      "outputs": []
    },
    {
      "cell_type": "code",
      "source": [
        "# 3rd loop: for z in sublist2\n",
        "# 2nd loop: for sublist2 in sublist1\n",
        "# 1st loop: for sublist1 in [[[1,2],[4,5]],[[6,7],[8]]]"
      ],
      "metadata": {
        "id": "KLCzZflHg_uR"
      },
      "execution_count": 16,
      "outputs": []
    },
    {
      "cell_type": "code",
      "source": [
        "# [[[[1,2],[4,5]],[[6,7],[8]]], [[[9,10],[11,12]], [[13,14],[15,16]]]]\n",
        "\n",
        "test = [[[[1,2],[4,5]],[[6,7],[8]]], [[[9,10],[11,12]], [[13,14],[15,16]]]]\n",
        "\n",
        "test"
      ],
      "metadata": {
        "colab": {
          "base_uri": "https://localhost:8080/"
        },
        "id": "CPGkGUrChQef",
        "outputId": "844ac98c-b252-4682-b72b-5876457fbcb2"
      },
      "execution_count": 17,
      "outputs": [
        {
          "output_type": "execute_result",
          "data": {
            "text/plain": [
              "[[[[1, 2], [4, 5]], [[6, 7], [8]]],\n",
              " [[[9, 10], [11, 12]], [[13, 14], [15, 16]]]]"
            ]
          },
          "metadata": {},
          "execution_count": 17
        }
      ]
    },
    {
      "cell_type": "code",
      "source": [
        "# 4th loop: for z in outer3\n",
        "# 3rd loop: for outer3 in outer2\n",
        "# 2nd loop: for outer2 in outer1\n",
        "# 1st loop: for outer1 in test\n",
        "\n",
        "new_list_2 = [z for outer1 in test for outer2 in outer1 for outer3 in outer2  for z in outer3]"
      ],
      "metadata": {
        "id": "gBCWBH5lh80a"
      },
      "execution_count": 19,
      "outputs": []
    },
    {
      "cell_type": "code",
      "source": [
        "new_list_2"
      ],
      "metadata": {
        "colab": {
          "base_uri": "https://localhost:8080/"
        },
        "id": "wBiqjkWYmQe4",
        "outputId": "c0faba50-b25f-4490-95ce-e0245a85811e"
      },
      "execution_count": 20,
      "outputs": [
        {
          "output_type": "execute_result",
          "data": {
            "text/plain": [
              "[1, 2, 4, 5, 6, 7, 8, 9, 10, 11, 12, 13, 14, 15, 16]"
            ]
          },
          "metadata": {},
          "execution_count": 20
        }
      ]
    }
  ]
}