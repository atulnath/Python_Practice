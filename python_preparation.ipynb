{
  "nbformat": 4,
  "nbformat_minor": 0,
  "metadata": {
    "colab": {
      "provenance": [],
      "authorship_tag": "ABX9TyOZ79fPsFCpeIUwLT+rl5vA",
      "include_colab_link": true
    },
    "kernelspec": {
      "name": "python3",
      "display_name": "Python 3"
    },
    "language_info": {
      "name": "python"
    }
  },
  "cells": [
    {
      "cell_type": "markdown",
      "metadata": {
        "id": "view-in-github",
        "colab_type": "text"
      },
      "source": [
        "<a href=\"https://colab.research.google.com/github/atulnath/Python_Practice/blob/main/python_preparation.ipynb\" target=\"_parent\"><img src=\"https://colab.research.google.com/assets/colab-badge.svg\" alt=\"Open In Colab\"/></a>"
      ]
    },
    {
      "cell_type": "code",
      "execution_count": 1,
      "metadata": {
        "colab": {
          "base_uri": "https://localhost:8080/"
        },
        "id": "PDCGybfN5uiR",
        "outputId": "7e772cec-a460-47ca-dc11-2dd5526d6bca"
      },
      "outputs": [
        {
          "output_type": "stream",
          "name": "stdout",
          "text": [
            "[5, 4, 3, 2, 1]\n"
          ]
        }
      ],
      "source": [
        "#Reversing a list\n",
        "\n",
        "def reverse_list(arr):\n",
        "  return arr[::-1]\n",
        "  # or we can use arr.reverse()\n",
        "  # and at the last return arr\n",
        "\n",
        "arr = [1,2,3,4,5]\n",
        "print(reverse_list(arr))"
      ]
    },
    {
      "cell_type": "code",
      "source": [
        "# binary Search\n",
        "\n",
        "def binary_search(nums, target):\n",
        "  left, right = 0, len(nums) - 1\n",
        "\n",
        "  while left <= right:\n",
        "\n",
        "    # let calculate the mid first\n",
        "\n",
        "    mid = left + (right -left)//2\n",
        "\n",
        "    # if mid element is bigger than our target\n",
        "    # element, there is no point to search after\n",
        "    # the mid element, now our search space is upto\n",
        "    # mid element\n",
        "    if(nums[mid] > target):\n",
        "      right = mid -1\n",
        "    # or our mid element is less than the target element\n",
        "    # that means, there is no point search element before\n",
        "    # the mid element\n",
        "    elif(nums[mid] < target):\n",
        "      left = mid + 1\n",
        "    else:\n",
        "      return mid\n",
        "  return -1\n",
        "\n",
        "binary_search([2,3,7,8,9,19],8)"
      ],
      "metadata": {
        "colab": {
          "base_uri": "https://localhost:8080/"
        },
        "id": "L2B7tseL6Q07",
        "outputId": "f8d8f788-c640-43b1-ecb8-c39a74b18c58"
      },
      "execution_count": 2,
      "outputs": [
        {
          "output_type": "execute_result",
          "data": {
            "text/plain": [
              "3"
            ]
          },
          "metadata": {},
          "execution_count": 2
        }
      ]
    },
    {
      "cell_type": "markdown",
      "source": [
        "#OOP in Python"
      ],
      "metadata": {
        "id": "Kw2ajijB9E6R"
      }
    },
    {
      "cell_type": "markdown",
      "source": [
        "**Abstract Class**"
      ],
      "metadata": {
        "id": "DX2AN6Ll9LY9"
      }
    },
    {
      "cell_type": "code",
      "source": [
        "#For making abstract class we need to import ABC and abstractmethod.\n",
        "\n",
        "# Here we make a abstract class\n",
        "# any class importing this class\n",
        "# need to implement this breathing_function method\n",
        "from abc import ABC, abstractmethod\n",
        "class Livings(ABC):\n",
        "  @abstractmethod\n",
        "  def breathing_function(self):\n",
        "    pass"
      ],
      "metadata": {
        "id": "XmqasAFk9fjO"
      },
      "execution_count": 5,
      "outputs": []
    }
  ]
}